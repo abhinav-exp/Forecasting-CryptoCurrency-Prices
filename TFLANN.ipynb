{
  "nbformat": 4,
  "nbformat_minor": 0,
  "metadata": {
    "colab": {
      "provenance": [],
      "authorship_tag": "ABX9TyM70VFZY0Kfqm9ow+exArvc",
      "include_colab_link": true
    },
    "kernelspec": {
      "name": "python3",
      "display_name": "Python 3"
    },
    "language_info": {
      "name": "python"
    }
  },
  "cells": [
    {
      "cell_type": "markdown",
      "metadata": {
        "id": "view-in-github",
        "colab_type": "text"
      },
      "source": [
        "<a href=\"https://colab.research.google.com/github/abhinav-exp/Forecasting-CryptoCurrency-Prices/blob/master/TFLANN.ipynb\" target=\"_parent\"><img src=\"https://colab.research.google.com/assets/colab-badge.svg\" alt=\"Open In Colab\"/></a>"
      ]
    },
    {
      "cell_type": "code",
      "execution_count": 1,
      "metadata": {
        "id": "iAGCchoSczP7"
      },
      "outputs": [],
      "source": [
        "import numpy as np\n",
        "import pandas as pd\n",
        "import matplotlib.pyplot as plt"
      ]
    },
    {
      "cell_type": "code",
      "source": [
        "GitHubDataLink = 'https://raw.githubusercontent.com/abhinav-exp/Forecasting-CryptoCurrency-Prices/master/Datasets/'\n",
        "InputFileLink = GitHubDataLink + 'DataBTC2017.csv'\n",
        "data1 = pd.read_csv(InputFileLink, header=0, index_col=0)"
      ],
      "metadata": {
        "id": "57foKm1QfNo9"
      },
      "execution_count": 2,
      "outputs": []
    },
    {
      "cell_type": "code",
      "source": [
        "def split_sequence(sequence, n_steps):\n",
        "  X= list()\n",
        "  for i in range(len(sequence) - n_steps):\n",
        "    end_ix = i + n_steps\n",
        "    seq_x= sequence.values[i:end_ix, 0]\n",
        "    X.append(seq_x)\n",
        "  return pd.DataFrame(X)\n",
        "\n",
        "data2 = split_sequence(data1, 10)\n",
        "print(data2.shape)\n",
        "print(data2)"
      ],
      "metadata": {
        "colab": {
          "base_uri": "https://localhost:8080/"
        },
        "id": "oPYSRb00f2Xp",
        "outputId": "b1c54203-a3da-4711-8096-eaa05fe97f0c"
      },
      "execution_count": 3,
      "outputs": [
        {
          "output_type": "stream",
          "name": "stdout",
          "text": [
            "(771, 10)\n",
            "           0        1        2         3         4         5         6  \\\n",
            "0    2515.25  2596.98  2725.08   2643.35   2679.99   2690.76   2574.84   \n",
            "1    2596.98  2725.08  2643.35   2679.99   2690.76   2574.84   2505.61   \n",
            "2    2725.08  2643.35  2679.99   2690.76   2574.84   2505.61   2407.91   \n",
            "3    2643.35  2679.99  2690.76   2574.84   2505.61   2407.91   2575.75   \n",
            "4    2679.99  2690.76  2574.84   2505.61   2407.91   2575.75   2553.12   \n",
            "..       ...      ...      ...       ...       ...       ...       ...   \n",
            "766  9751.24  9880.67  9841.96   9468.92   9549.70   9503.32   9580.00   \n",
            "767  9880.67  9841.96  9468.92   9549.70   9503.32   9580.00  10099.00   \n",
            "768  9841.96  9468.92  9549.70   9503.32   9580.00  10099.00  10417.24   \n",
            "769  9468.92  9549.70  9503.32   9580.00  10099.00  10417.24  10533.07   \n",
            "770  9549.70  9503.32  9580.00  10099.00  10417.24  10533.07  10820.75   \n",
            "\n",
            "            7         8         9  \n",
            "0     2505.61   2407.91   2575.75  \n",
            "1     2407.91   2575.75   2553.12  \n",
            "2     2575.75   2553.12   2530.00  \n",
            "3     2553.12   2530.00   2455.19  \n",
            "4     2530.00   2455.19   2423.63  \n",
            "..        ...       ...       ...  \n",
            "766  10099.00  10417.24  10533.07  \n",
            "767  10417.24  10533.07  10820.75  \n",
            "768  10533.07  10820.75  10997.82  \n",
            "769  10820.75  10997.82  11775.14  \n",
            "770  10997.82  11775.14  11440.08  \n",
            "\n",
            "[771 rows x 10 columns]\n"
          ]
        }
      ]
    },
    {
      "cell_type": "code",
      "source": [
        "train_x = data2.iloc[:int(0.85*len(data2)), :9]\n",
        "train_y = data2.iloc[:int(0.85*len(data2)), 9:10]\n",
        "test_x = data2.iloc[int(0.85*len(data2)):, :9]\n",
        "test_y = data2.iloc[int(0.85*len(data2)):, 9:10]\n",
        "print(train_x.shape)\n",
        "print(train_y.shape)\n",
        "print(test_x.shape)\n",
        "print(test_y.shape)"
      ],
      "metadata": {
        "colab": {
          "base_uri": "https://localhost:8080/"
        },
        "id": "NtAyJ30_f_iA",
        "outputId": "9f3dc3a8-3a8e-4c5e-9340-62fd7e0e16c6"
      },
      "execution_count": 4,
      "outputs": [
        {
          "output_type": "stream",
          "name": "stdout",
          "text": [
            "(655, 9)\n",
            "(655, 1)\n",
            "(116, 9)\n",
            "(116, 1)\n"
          ]
        }
      ]
    },
    {
      "cell_type": "code",
      "source": [
        "qqqq = 2*np.random.random((3, 1)) - 1\n",
        "print(np.sin(qqqq))"
      ],
      "metadata": {
        "colab": {
          "base_uri": "https://localhost:8080/"
        },
        "id": "hujziXootWPi",
        "outputId": "62bed52c-64a1-40bb-c107-105783f8e3f7"
      },
      "execution_count": 5,
      "outputs": [
        {
          "output_type": "stream",
          "name": "stdout",
          "text": [
            "[[-0.51498447]\n",
            " [-0.22718357]\n",
            " [ 0.28774048]]\n"
          ]
        }
      ]
    },
    {
      "cell_type": "code",
      "source": [
        "s = np.sin(qqqq)\n",
        "c = np.cos(qqqq)\n",
        "print(s)\n",
        "print(c)\n",
        "print(qqqq + s + c)"
      ],
      "metadata": {
        "colab": {
          "base_uri": "https://localhost:8080/"
        },
        "id": "b-tNheIs3rmr",
        "outputId": "36ab964d-0501-4501-9fef-7ab0f72d022f"
      },
      "execution_count": 6,
      "outputs": [
        {
          "output_type": "stream",
          "name": "stdout",
          "text": [
            "[[-0.51498447]\n",
            " [-0.22718357]\n",
            " [ 0.28774048]]\n",
            "[[0.85719951]\n",
            " [0.97385195]\n",
            " [0.95770842]]\n",
            "[[-0.19877451]\n",
            " [ 0.51748373]\n",
            " [ 1.5373156 ]]\n"
          ]
        }
      ]
    },
    {
      "cell_type": "code",
      "source": [
        "class TFLANN():\n",
        "  def __init__(self):\n",
        "    self.weight_matrix = 2*np.random.random((9*3, 1)) - 1\n",
        "  \n",
        "  def func_x(self, x):\n",
        "    orginal_x = x\n",
        "    sinned_x = np.sin(np.pi*x)\n",
        "    cossed_x = np.cos(np.pi*x)\n",
        "    functioned_x = np.hstack((x, sinned_x, cossed_x))\n",
        "    return functioned_x\n",
        "\n",
        "  def tanh_derivative(self, x):\n",
        "    return 1.0 - (np.tanh(x) ** 2)\n",
        "\n",
        "  def forward_propagation(self, x):\n",
        "    funced_x = self.func_x(x)\n",
        "    return np.dot(funced_x, self.weight_matrix)\n",
        "\n",
        "  def train(self, train_x, train_y, epochs):\n",
        "    for iteration in range(epochs):\n",
        "      y = self.forward_propagation(train_x)\n",
        "\n",
        "      error = train_y - y\n",
        "\n",
        "      adjustment = np.dot(self.func_x(train_x).T, error * self.tanh_derivative(y))\n",
        "\n",
        "      self.weight_matrix += adjustment\n",
        "      # for w in self.weight_matrix:\n",
        "      #   print(str(round(w[0], 2)) + \" \", end=\"\")\n",
        "      # print(\"epoch \")"
      ],
      "metadata": {
        "id": "f9vCOi1LgEJI"
      },
      "execution_count": 47,
      "outputs": []
    },
    {
      "cell_type": "code",
      "source": [
        "model = TFLANN()\n",
        "model.train(train_x = train_x, train_y = train_y, epochs = 1000)\n",
        "preds = model.forward_propagation(test_x)\n",
        "print(preds.shape)"
      ],
      "metadata": {
        "colab": {
          "base_uri": "https://localhost:8080/"
        },
        "id": "Dik7lQevykk2",
        "outputId": "8d334e02-2fdd-409c-e725-46ffc678a995"
      },
      "execution_count": 48,
      "outputs": [
        {
          "output_type": "stream",
          "name": "stdout",
          "text": [
            "(116, 1)\n"
          ]
        }
      ]
    },
    {
      "cell_type": "code",
      "source": [
        "preds[:, 0]"
      ],
      "metadata": {
        "colab": {
          "base_uri": "https://localhost:8080/"
        },
        "id": "F73QxKqC8n7b",
        "outputId": "bea0d2a1-2c5b-46a4-f1b5-1e5d79b9434e"
      },
      "execution_count": 49,
      "outputs": [
        {
          "output_type": "execute_result",
          "data": {
            "text/plain": [
              "array([10414.97276231, 10305.72768838, 10351.00146216, 10248.36575269,\n",
              "       10099.21811004, 10296.87938392, 10020.57717134, 10382.68985312,\n",
              "       10409.14898882, 10546.18827155, 10447.32654031, 10793.48117578,\n",
              "       10726.97824722, 10719.90073217, 10641.3646292 , 10569.72034275,\n",
              "       10431.7061357 , 10461.39881135, 10444.10018144, 10238.9445749 ,\n",
              "       10165.24283477, 10616.02728456, 10797.00552605, 10959.91056939,\n",
              "       11154.04756298, 11379.70694016, 11461.09973169, 11673.99819738,\n",
              "       12040.11015768, 12368.8664104 , 12669.41791588, 13350.27204371,\n",
              "       14199.52557961, 14881.82390938, 15469.78790174, 15649.58635501,\n",
              "       16123.29101497, 15365.04138656, 16213.49840842, 15660.83720427,\n",
              "       15710.78381828, 15227.37142917, 15250.13060171, 15751.93461112,\n",
              "       16798.28692016, 16133.65969216, 16535.50505913, 16706.78603463,\n",
              "       17231.16347547, 17178.1066958 , 17217.19780463, 17635.97735015,\n",
              "       16924.32023004, 16522.44893916, 16319.56764666, 15748.73639247,\n",
              "       16116.18191358, 15773.91486626, 15669.42497919, 15001.88898452,\n",
              "       15416.53822683, 15829.38988679, 16006.66044361, 16294.07651089,\n",
              "       16446.35018126, 16654.09952479, 17697.08434211, 17571.3773192 ,\n",
              "       18181.203911  , 18406.36058315, 19031.77537147, 19360.86640591,\n",
              "       19915.84244354, 20684.45286686, 20984.53967312, 22378.96592274,\n",
              "       22913.32569502, 23818.61335885, 24090.15215885, 23415.75687755,\n",
              "       23431.38077619, 23308.76548727, 23263.80648837, 20948.52665893,\n",
              "       23182.57007164, 21860.41355319, 21336.77062468, 22623.82613985,\n",
              "       23564.56302133, 24349.52184365, 22856.24312089, 23681.39692979,\n",
              "       23758.41926212, 23312.18170346, 23319.89770143, 21863.83844479,\n",
              "       20423.79267352, 20164.42877162, 20706.73251166, 20027.59376523,\n",
              "       19743.25289764, 21164.71398047, 19576.27887434, 20868.9430308 ,\n",
              "       21053.09223006, 19889.24425519, 19817.71150718, 19292.27484368,\n",
              "       18928.67215033, 18723.59319182, 19193.45661547, 19560.73292668,\n",
              "       19697.43190649, 19936.67276313, 20773.94131758, 21316.53234393])"
            ]
          },
          "metadata": {},
          "execution_count": 49
        }
      ]
    },
    {
      "cell_type": "code",
      "source": [
        "plt.figure(figsize=(30, 6))\n",
        "plt.plot(test_y.reset_index()[9])\n",
        "plt.plot(preds)\n",
        "plt.show()\n",
        "     "
      ],
      "metadata": {
        "colab": {
          "base_uri": "https://localhost:8080/",
          "height": 374
        },
        "id": "N-k8bMAszhuP",
        "outputId": "6f2593cd-1ad0-4325-d044-e01baaf994b2"
      },
      "execution_count": 50,
      "outputs": [
        {
          "output_type": "display_data",
          "data": {
            "text/plain": [
              "<Figure size 2160x432 with 1 Axes>"
            ],
            "image/png": "[encoded data removed]"
          },
          "metadata": {
            "needs_background": "light"
          }
        }
      ]
    },
    {
      "cell_type": "code",
      "source": [],
      "metadata": {
        "id": "yL3AcoEc5hy_"
      },
      "execution_count": null,
      "outputs": []
    }
  ]
}