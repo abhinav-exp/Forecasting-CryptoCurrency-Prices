{
  "nbformat": 4,
  "nbformat_minor": 0,
  "metadata": {
    "colab": {
      "provenance": [],
      "authorship_tag": "ABX9TyO+hZGIIL2wf/xQAad4KZ5L",
      "include_colab_link": true
    },
    "kernelspec": {
      "name": "python3",
      "display_name": "Python 3"
    },
    "language_info": {
      "name": "python"
    }
  },
  "cells": [
    {
      "cell_type": "markdown",
      "metadata": {
        "id": "view-in-github",
        "colab_type": "text"
      },
      "source": [
        "<a href=\"https://colab.research.google.com/github/abhinav-exp/Forecasting-CryptoCurrency-Prices/blob/master/CFLANN.ipynb\" target=\"_parent\"><img src=\"https://colab.research.google.com/assets/colab-badge.svg\" alt=\"Open In Colab\"/></a>"
      ]
    },
    {
      "cell_type": "code",
      "execution_count": 1,
      "metadata": {
        "id": "iAGCchoSczP7"
      },
      "outputs": [],
      "source": [
        "import numpy as np\n",
        "import pandas as pd\n",
        "import matplotlib.pyplot as plt"
      ]
    },
    {
      "cell_type": "code",
      "source": [
        "GitHubDataLink = 'https://raw.githubusercontent.com/abhinav-exp/Forecasting-CryptoCurrency-Prices/master/Datasets/'\n",
        "InputFileLink = GitHubDataLink + 'DataBTC2017.csv'\n",
        "data1 = pd.read_csv(InputFileLink, header=0, index_col=0)"
      ],
      "metadata": {
        "id": "57foKm1QfNo9"
      },
      "execution_count": 2,
      "outputs": []
    },
    {
      "cell_type": "code",
      "source": [
        "def split_sequence(sequence, n_steps):\n",
        "  X= list()\n",
        "  for i in range(len(sequence) - n_steps):\n",
        "    end_ix = i + n_steps\n",
        "    seq_x= sequence.values[i:end_ix, 0]\n",
        "    X.append(seq_x)\n",
        "  return pd.DataFrame(X)\n",
        "\n",
        "data2 = split_sequence(data1, 10)\n",
        "print(data2.shape)\n",
        "print(data2)"
      ],
      "metadata": {
        "colab": {
          "base_uri": "https://localhost:8080/"
        },
        "id": "oPYSRb00f2Xp",
        "outputId": "5dbed01f-4405-4551-a4f4-245572730b9a"
      },
      "execution_count": 3,
      "outputs": [
        {
          "output_type": "stream",
          "name": "stdout",
          "text": [
            "(771, 10)\n",
            "           0        1        2         3         4         5         6  \\\n",
            "0    2515.25  2596.98  2725.08   2643.35   2679.99   2690.76   2574.84   \n",
            "1    2596.98  2725.08  2643.35   2679.99   2690.76   2574.84   2505.61   \n",
            "2    2725.08  2643.35  2679.99   2690.76   2574.84   2505.61   2407.91   \n",
            "3    2643.35  2679.99  2690.76   2574.84   2505.61   2407.91   2575.75   \n",
            "4    2679.99  2690.76  2574.84   2505.61   2407.91   2575.75   2553.12   \n",
            "..       ...      ...      ...       ...       ...       ...       ...   \n",
            "766  9751.24  9880.67  9841.96   9468.92   9549.70   9503.32   9580.00   \n",
            "767  9880.67  9841.96  9468.92   9549.70   9503.32   9580.00  10099.00   \n",
            "768  9841.96  9468.92  9549.70   9503.32   9580.00  10099.00  10417.24   \n",
            "769  9468.92  9549.70  9503.32   9580.00  10099.00  10417.24  10533.07   \n",
            "770  9549.70  9503.32  9580.00  10099.00  10417.24  10533.07  10820.75   \n",
            "\n",
            "            7         8         9  \n",
            "0     2505.61   2407.91   2575.75  \n",
            "1     2407.91   2575.75   2553.12  \n",
            "2     2575.75   2553.12   2530.00  \n",
            "3     2553.12   2530.00   2455.19  \n",
            "4     2530.00   2455.19   2423.63  \n",
            "..        ...       ...       ...  \n",
            "766  10099.00  10417.24  10533.07  \n",
            "767  10417.24  10533.07  10820.75  \n",
            "768  10533.07  10820.75  10997.82  \n",
            "769  10820.75  10997.82  11775.14  \n",
            "770  10997.82  11775.14  11440.08  \n",
            "\n",
            "[771 rows x 10 columns]\n"
          ]
        }
      ]
    },
    {
      "cell_type": "code",
      "source": [
        "train_x = data2.iloc[:int(0.85*len(data2)), :9]\n",
        "train_y = data2.iloc[:int(0.85*len(data2)), 9:10]\n",
        "test_x = data2.iloc[int(0.85*len(data2)):, :9]\n",
        "test_y = data2.iloc[int(0.85*len(data2)):, 9:10]\n",
        "print(train_x.shape)\n",
        "print(train_y.shape)\n",
        "print(test_x.shape)\n",
        "print(test_y.shape)"
      ],
      "metadata": {
        "colab": {
          "base_uri": "https://localhost:8080/"
        },
        "id": "NtAyJ30_f_iA",
        "outputId": "2c002fbc-8aad-445d-8e24-4ff4d98433e2"
      },
      "execution_count": 4,
      "outputs": [
        {
          "output_type": "stream",
          "name": "stdout",
          "text": [
            "(655, 9)\n",
            "(655, 1)\n",
            "(116, 9)\n",
            "(116, 1)\n"
          ]
        }
      ]
    },
    {
      "cell_type": "code",
      "source": [
        "class CFLANN():\n",
        "  def __init__(self):\n",
        "    self.weight_matrix = 2*np.random.random((9*4, 1)) - 1\n",
        "  \n",
        "  def func_x(self, x):\n",
        "    orginal_x = x\n",
        "    func1_x = 2*(x ** 2) - 1\n",
        "    func2_x = 4*(x ** 3) - 3*x\n",
        "    func3_x = 8*(x ** 4) - 8*(x ** 2) + 1\n",
        "    functioned_x = np.hstack((x, func1_x, func2_x, func3_x))\n",
        "    return functioned_x\n",
        "\n",
        "  def tanh_derivative(self, x):\n",
        "    return 1.0 - (np.tanh(x) ** 2)\n",
        "\n",
        "  def forward_propagation(self, x):\n",
        "    funced_x = self.func_x(x)\n",
        "    return np.dot(funced_x, self.weight_matrix)\n",
        "\n",
        "  def train(self, train_x, train_y, epochs):\n",
        "    for iteration in range(epochs):\n",
        "      y = self.forward_propagation(train_x)\n",
        "\n",
        "      error = train_y - y\n",
        "\n",
        "      adjustment = np.dot(self.func_x(train_x).T, error * self.tanh_derivative(y))\n",
        "\n",
        "      self.weight_matrix += adjustment\n",
        "      # for w in self.weight_matrix:\n",
        "      #   print(str(round(w[0], 2)) + \" \", end=\"\")\n",
        "      # print(\"epoch \")"
      ],
      "metadata": {
        "id": "f9vCOi1LgEJI"
      },
      "execution_count": 8,
      "outputs": []
    },
    {
      "cell_type": "code",
      "source": [
        "model = CFLANN()\n",
        "model.train(train_x = train_x, train_y = train_y, epochs = 100)\n",
        "preds = model.forward_propagation(test_x)\n",
        "print(preds.shape)"
      ],
      "metadata": {
        "colab": {
          "base_uri": "https://localhost:8080/"
        },
        "id": "Dik7lQevykk2",
        "outputId": "cda9fe9d-8f19-4967-c2fe-105f89721256"
      },
      "execution_count": 19,
      "outputs": [
        {
          "output_type": "stream",
          "name": "stdout",
          "text": [
            "(116, 1)\n"
          ]
        }
      ]
    },
    {
      "cell_type": "code",
      "source": [
        "preds[:, 0]"
      ],
      "metadata": {
        "colab": {
          "base_uri": "https://localhost:8080/"
        },
        "id": "F73QxKqC8n7b",
        "outputId": "a24a2fa1-937f-495b-c442-ce5296cc70a5"
      },
      "execution_count": 20,
      "outputs": [
        {
          "output_type": "execute_result",
          "data": {
            "text/plain": [
              "array([-7.62797648e+15, -7.28728132e+15, -7.79347545e+15, -9.85341615e+15,\n",
              "       -9.48428099e+15, -9.07359609e+15, -9.79638896e+15, -9.05291395e+15,\n",
              "       -8.19432063e+15, -8.74781443e+15, -8.84567129e+15, -8.84269199e+15,\n",
              "       -9.74301516e+15, -9.86347724e+15, -8.69784619e+15, -7.73723561e+15,\n",
              "       -9.80880977e+15, -1.05396854e+16, -1.03340194e+16, -1.13832368e+16,\n",
              "       -1.09550010e+16, -9.88584861e+15, -9.93608135e+15, -1.09720661e+16,\n",
              "       -1.00728123e+16, -8.63758146e+15, -1.03061403e+16, -1.21237783e+16,\n",
              "       -1.41641246e+16, -1.90385239e+16, -1.82385183e+16, -2.73058126e+16,\n",
              "       -1.97701230e+16, -2.60511356e+16, -2.88264837e+16, -1.54069903e+16,\n",
              "       -1.96846901e+16, -2.66049240e+16, -3.88795257e+16, -6.34749412e+16,\n",
              "       -4.99043003e+16, -4.30779478e+16, -4.58545505e+16, -4.00806564e+16,\n",
              "       -5.28389603e+16, -5.85422085e+16, -6.61765198e+16, -5.33664583e+16,\n",
              "       -3.46429796e+16, -5.10552051e+16, -4.70978148e+16, -6.36843940e+16,\n",
              "       -7.46741450e+16, -6.47143562e+16, -5.47864765e+16, -5.28360244e+16,\n",
              "       -6.78650596e+16, -6.56948699e+16, -6.58492926e+16, -6.46530269e+16,\n",
              "       -4.33534256e+16, -5.16251706e+16, -5.02018775e+16, -5.11952606e+16,\n",
              "       -6.12688798e+16, -5.86510054e+16, -5.91717915e+16, -5.53270586e+16,\n",
              "       -6.41565656e+16, -5.84616164e+16, -7.36307881e+16, -1.03960631e+17,\n",
              "       -1.11114583e+17, -1.20675510e+17, -1.18585148e+17, -1.43071701e+17,\n",
              "       -1.39391215e+17, -1.96683203e+17, -6.66890697e+16, -1.48204020e+17,\n",
              "       -2.19742952e+17, -7.89839090e+16, -2.82703482e+17, -3.23284965e+17,\n",
              "       -2.56464474e+17, -2.30330946e+17, -1.83700819e+17, -2.29390818e+17,\n",
              "       -1.97763345e+17, -2.50234845e+17, -2.44330670e+17, -1.43941100e+17,\n",
              "       -1.42409376e+17, -2.08544603e+17, -2.22505716e+17, -1.88280347e+17,\n",
              "       -2.92037279e+17, -2.25386565e+17, -1.84480559e+17, -2.92660716e+17,\n",
              "       -1.76112302e+17, -1.33056029e+17, -1.46832398e+17, -7.86808309e+16,\n",
              "       -1.08733636e+17, -1.51842620e+17, -1.57302160e+17, -1.53052371e+17,\n",
              "       -1.33696548e+17, -1.30076716e+17, -1.24696332e+17, -1.21602986e+17,\n",
              "       -1.43155146e+17, -1.35706543e+17, -1.13260766e+17, -1.36589851e+17])"
            ]
          },
          "metadata": {},
          "execution_count": 20
        }
      ]
    },
    {
      "cell_type": "code",
      "source": [
        "plt.figure(figsize=(30, 6))\n",
        "plt.plot(test_y.reset_index()[9])\n",
        "plt.plot(preds)\n",
        "plt.show()\n",
        "     "
      ],
      "metadata": {
        "colab": {
          "base_uri": "https://localhost:8080/",
          "height": 385
        },
        "id": "N-k8bMAszhuP",
        "outputId": "4e656a72-2ac8-4342-805c-43d51d53f3d5"
      },
      "execution_count": 21,
      "outputs": [
        {
          "output_type": "display_data",
          "data": {
            "text/plain": [
              "<Figure size 2160x432 with 1 Axes>"
            ],
            "image/png": "[encoded data removed]"
          },
          "metadata": {
            "needs_background": "light"
          }
        }
      ]
    },
    {
      "cell_type": "code",
      "source": [],
      "metadata": {
        "id": "yL3AcoEc5hy_"
      },
      "execution_count": null,
      "outputs": []
    }
  ]
}