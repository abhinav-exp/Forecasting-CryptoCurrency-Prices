{
  "nbformat": 4,
  "nbformat_minor": 0,
  "metadata": {
    "colab": {
      "provenance": [],
      "authorship_tag": "ABX9TyOlS3iMuInMsQ/7jQ8J0Xaf",
      "include_colab_link": true
    },
    "kernelspec": {
      "name": "python3",
      "display_name": "Python 3"
    },
    "language_info": {
      "name": "python"
    }
  },
  "cells": [
    {
      "cell_type": "markdown",
      "metadata": {
        "id": "view-in-github",
        "colab_type": "text"
      },
      "source": [
        "<a href=\"https://colab.research.google.com/github/abhinav-exp/Forecasting-CryptoCurrency-Prices/blob/master/TFLANN_with_JAYA.ipynb\" target=\"_parent\"><img src=\"https://colab.research.google.com/assets/colab-badge.svg\" alt=\"Open In Colab\"/></a>"
      ]
    },
    {
      "cell_type": "code",
      "execution_count": 2,
      "metadata": {
        "id": "MJpkw8XK_eyB"
      },
      "outputs": [],
      "source": [
        "import numpy as np\n",
        "import pandas as pd\n",
        "import matplotlib.pyplot as plt"
      ]
    },
    {
      "cell_type": "code",
      "source": [
        "GitHubDataLink = 'https://raw.githubusercontent.com/abhinav-exp/Forecasting-CryptoCurrency-Prices/master/Datasets/'\n",
        "InputFileLink = GitHubDataLink + 'DataBTC2017.csv'\n",
        "data1 = pd.read_csv(InputFileLink, header=0, index_col=0)\n",
        "print(data1)"
      ],
      "metadata": {
        "colab": {
          "base_uri": "https://localhost:8080/"
        },
        "id": "uGTgzwMu_u6f",
        "outputId": "539aef24-b732-457c-b383-5c9cfa9388e5"
      },
      "execution_count": 3,
      "outputs": [
        {
          "output_type": "stream",
          "name": "stdout",
          "text": [
            "            CBBTCUSD\n",
            "DATE                \n",
            "2017-06-18   2515.25\n",
            "2017-06-19   2596.98\n",
            "2017-06-20   2725.08\n",
            "2017-06-21   2643.35\n",
            "2017-06-22   2679.99\n",
            "...              ...\n",
            "2019-08-03  10820.75\n",
            "2019-08-04  10997.82\n",
            "2019-08-05  11775.14\n",
            "2019-08-06  11440.08\n",
            "2019-08-07  12014.41\n",
            "\n",
            "[781 rows x 1 columns]\n"
          ]
        }
      ]
    },
    {
      "cell_type": "code",
      "source": [
        "data1min = data1.min()\n",
        "data1max = data1.max()\n",
        "\n",
        "normalize = lambda x: (x - data1min + 1)/(data1max - data1min + 2)\n",
        "data2 = normalize(data1)\n",
        "print(data2)"
      ],
      "metadata": {
        "colab": {
          "base_uri": "https://localhost:8080/"
        },
        "id": "6xbuQlIj_3E3",
        "outputId": "10dbce7c-a2ae-401b-92e0-9a78b5f565a4"
      },
      "execution_count": 4,
      "outputs": [
        {
          "output_type": "stream",
          "name": "stdout",
          "text": [
            "            CBBTCUSD\n",
            "DATE                \n",
            "2017-06-18  0.034073\n",
            "2017-06-19  0.038680\n",
            "2017-06-20  0.045901\n",
            "2017-06-21  0.041294\n",
            "2017-06-22  0.043360\n",
            "...              ...\n",
            "2019-08-03  0.502247\n",
            "2019-08-04  0.512228\n",
            "2019-08-05  0.556045\n",
            "2019-08-06  0.537158\n",
            "2019-08-07  0.569532\n",
            "\n",
            "[781 rows x 1 columns]\n"
          ]
        }
      ]
    },
    {
      "cell_type": "code",
      "source": [
        "def split_sequence(sequence, n_steps):\n",
        "  X= list()\n",
        "  for i in range(len(sequence) - n_steps):\n",
        "    end_ix = i + n_steps\n",
        "    seq_x= sequence.values[i:end_ix, 0]\n",
        "    X.append(seq_x) \n",
        "  return pd.DataFrame(X)\n",
        "\n",
        "data3 = split_sequence(data2, 10)\n",
        "print(data3.shape)\n",
        "print(data3)"
      ],
      "metadata": {
        "colab": {
          "base_uri": "https://localhost:8080/"
        },
        "id": "YPoW8oUUAPrg",
        "outputId": "a7bc4b51-6a15-4132-a60d-8aca9186ba84"
      },
      "execution_count": 5,
      "outputs": [
        {
          "output_type": "stream",
          "name": "stdout",
          "text": [
            "(771, 10)\n",
            "            0         1         2         3         4         5         6  \\\n",
            "0    0.034073  0.038680  0.045901  0.041294  0.043360  0.043967  0.037432   \n",
            "1    0.038680  0.045901  0.041294  0.043360  0.043967  0.037432  0.033530   \n",
            "2    0.045901  0.041294  0.043360  0.043967  0.037432  0.033530  0.028023   \n",
            "3    0.041294  0.043360  0.043967  0.037432  0.033530  0.028023  0.037484   \n",
            "4    0.043360  0.043967  0.037432  0.033530  0.028023  0.037484  0.036208   \n",
            "..        ...       ...       ...       ...       ...       ...       ...   \n",
            "766  0.441959  0.449255  0.447073  0.426045  0.430599  0.427984  0.432307   \n",
            "767  0.449255  0.447073  0.426045  0.430599  0.427984  0.432307  0.461562   \n",
            "768  0.447073  0.426045  0.430599  0.427984  0.432307  0.461562  0.479501   \n",
            "769  0.426045  0.430599  0.427984  0.432307  0.461562  0.479501  0.486030   \n",
            "770  0.430599  0.427984  0.432307  0.461562  0.479501  0.486030  0.502247   \n",
            "\n",
            "            7         8         9  \n",
            "0    0.033530  0.028023  0.037484  \n",
            "1    0.028023  0.037484  0.036208  \n",
            "2    0.037484  0.036208  0.034905  \n",
            "3    0.036208  0.034905  0.030688  \n",
            "4    0.034905  0.030688  0.028909  \n",
            "..        ...       ...       ...  \n",
            "766  0.461562  0.479501  0.486030  \n",
            "767  0.479501  0.486030  0.502247  \n",
            "768  0.486030  0.502247  0.512228  \n",
            "769  0.502247  0.512228  0.556045  \n",
            "770  0.512228  0.556045  0.537158  \n",
            "\n",
            "[771 rows x 10 columns]\n"
          ]
        }
      ]
    },
    {
      "cell_type": "code",
      "source": [
        "train_x = data3.iloc[:int(0.85*len(data2)), :9]\n",
        "train_y = data3.iloc[:int(0.85*len(data2)), 9:10]\n",
        "test_x = data3.iloc[int(0.85*len(data2)):, :9]\n",
        "test_y = data3.iloc[int(0.85*len(data2)):, 9:10]\n",
        "print(train_x.shape)\n",
        "print(train_y.shape)\n",
        "print(test_x.shape)\n",
        "print(test_y.shape)"
      ],
      "metadata": {
        "colab": {
          "base_uri": "https://localhost:8080/"
        },
        "id": "cPsGQSxEAS3t",
        "outputId": "ddef0575-264c-422b-9a8c-326c47f5d9a8"
      },
      "execution_count": 6,
      "outputs": [
        {
          "output_type": "stream",
          "name": "stdout",
          "text": [
            "(663, 9)\n",
            "(663, 1)\n",
            "(108, 9)\n",
            "(108, 1)\n"
          ]
        }
      ]
    },
    {
      "cell_type": "code",
      "source": [
        "class TFLANN():\n",
        "  def __init__(self, W):\n",
        "    self.weight_matrix = W\n",
        "  \n",
        "  def func_x(self, x):\n",
        "    const_x = np.ones((len(x), 1))\n",
        "    orginal_x = x\n",
        "    sinned_x = np.sin(np.pi*x)\n",
        "    cossed_x = np.cos(np.pi*x)\n",
        "    # print(const_x)\n",
        "    # print(x.shape)\n",
        "    # print(const_x.shape)\n",
        "    functioned_x = np.hstack((x, sinned_x, cossed_x, const_x))\n",
        "    return functioned_x\n",
        "\n",
        "  def forward_propagation(self, x):\n",
        "    funced_x = self.func_x(x)\n",
        "    return (np.tanh(np.dot(funced_x, self.weight_matrix)) + 1)/2"
      ],
      "metadata": {
        "id": "wo_fmfrcAYhD"
      },
      "execution_count": 70,
      "outputs": []
    },
    {
      "cell_type": "code",
      "source": [
        "find_mse = lambda x , y: np.mean((x - y) ** 2)\n",
        "\n",
        "class JAYATFLANN():\n",
        "  def __init__(self, p_size):\n",
        "    self.p_size = p_size\n",
        "    self.data = []\n",
        "\n",
        "    for i in range(p_size):\n",
        "      d = {}\n",
        "      d['W'] = np.random.random((9*3 + 1, 1))\n",
        "      model = TFLANN(d['W'])\n",
        "      d['mse'] = find_mse(model.forward_propagation(train_x), train_y)\n",
        "      self.data.append(d)\n",
        "\n",
        "    print(sum([v['mse'][9] for v in self.data]))\n",
        "    print([v['mse'][9] for v in self.data])\n",
        "\n",
        "    self.update_best_and_worst()\n",
        "\n",
        "  def update_best_and_worst(self):\n",
        "    self.best = 0\n",
        "    self.worst = 0\n",
        "    for i in range(self.p_size):\n",
        "      if self.data[self.best]['mse'][9] > self.data[i]['mse'][9]:\n",
        "        self.best = i\n",
        "      if self.data[self.worst]['mse'][9] < self.data[i]['mse'][9]:\n",
        "        self.worst = i\n",
        "\n",
        "  def next_gen(self):\n",
        "    for i in range(self.p_size):\n",
        "      t =  self.data[i]['W']\n",
        "      t += np.random.normal(loc = 0.5, scale = 0.1, size = (9*3 + 1, 1))* (self.data[self.best]['W'] - self.data[i]['W'])\n",
        "      t -= np.random.normal(loc = 0.5, scale = 0.1, size = (9*3 + 1, 1)) * (self.data[self.worst]['W'] - self.data[i]['W'])\n",
        "      model = TFLANN(t)\n",
        "      mse = find_mse(model.forward_propagation(train_x), train_y)\n",
        "      if mse[9] < self.data[i]['mse'][9]:\n",
        "        self.data[i] = {'W': t, 'mse':mse}\n",
        "\n",
        "    self.update_best_and_worst()\n",
        "\n",
        "  def optimise(self, gen):\n",
        "    for i in range(gen):\n",
        "      self.next_gen()\n",
        "      print(sum([v['mse'][9] for v in self.data]))"
      ],
      "metadata": {
        "id": "Qw5N763xCnqB"
      },
      "execution_count": 123,
      "outputs": []
    },
    {
      "cell_type": "code",
      "source": [
        "plt.hist(np.random.normal(loc = 0.5, scale = 0.3, size = (100000)))\n",
        "plt.show()"
      ],
      "metadata": {
        "colab": {
          "base_uri": "https://localhost:8080/",
          "height": 266
        },
        "id": "BKS9Iycpitp2",
        "outputId": "9aaea448-a876-4ed7-b5b2-d4a6c147ad36"
      },
      "execution_count": 116,
      "outputs": [
        {
          "output_type": "display_data",
          "data": {
            "text/plain": [
              "<Figure size 432x288 with 1 Axes>"
            ],
            "image/png": "[encoded data removed]"
          },
          "metadata": {
            "needs_background": "light"
          }
        }
      ]
    },
    {
      "cell_type": "code",
      "source": [
        "optimiser = JAYATFLANN(50)\n",
        "optimiser.optimise(100)\n",
        "model = TFLANN(optimiser.data[optimiser.best]['W'])\n",
        "preds = model.forward_propagation(test_x)\n",
        "print(preds.shape)"
      ],
      "metadata": {
        "colab": {
          "base_uri": "https://localhost:8080/"
        },
        "id": "AjfADHz5gU2B",
        "outputId": "a678e196-76fc-496f-d21c-e86b349d1bbd"
      },
      "execution_count": 124,
      "outputs": [
        {
          "output_type": "stream",
          "name": "stdout",
          "text": [
            "28.626909540597524\n",
            "[0.572688802852418, 0.5725546434019791, 0.5726908194867409, 0.5726954487448439, 0.5723768314496797, 0.5723507263579904, 0.5726692687822916, 0.5721926764185663, 0.5724575842193869, 0.5725852830719951, 0.5720825135184903, 0.5726651273884085, 0.5726599875299897, 0.5721920101173561, 0.572563747129819, 0.5723949133280439, 0.5726208340892656, 0.5730880769434278, 0.5726546343253831, 0.572650050957482, 0.5722169910779111, 0.5723228477672614, 0.572203452548125, 0.5726572656734744, 0.5726885816989543, 0.5726486913177938, 0.5726450339348473, 0.5726082823149836, 0.573096313424165, 0.571915746862281, 0.5719856691948939, 0.573880135563803, 0.5726487057715468, 0.5725187652389478, 0.5726717414376779, 0.5726245941519841, 0.5723818224046595, 0.5726547547539036, 0.5726679846862989, 0.5724908056609065, 0.572677867183273, 0.5722811943219036, 0.5721916940401933, 0.5726895445830832, 0.572632079627089, 0.5721044812968784, 0.5724825782245611, 0.5726481180148083, 0.5725364843083944, 0.5723033333993678]\n",
            "28.45589618147456\n",
            "23.43342289916218\n",
            "8.839224496103718\n",
            "2.742692425125514\n",
            "2.5405172200744284\n",
            "2.3115048852037883\n",
            "2.0355435103269204\n",
            "1.7590810355163968\n",
            "1.3818470543696457\n",
            "1.1883912712283387\n",
            "0.9333143308042529\n",
            "0.7651183912848929\n",
            "0.7142728143806361\n",
            "0.6872117445512947\n",
            "0.5947168352318227\n",
            "0.5736418846011758\n",
            "0.5611952059360322\n",
            "0.5328681510196135\n",
            "0.5040348659658257\n",
            "0.4843619765836386\n",
            "0.4619455260396126\n",
            "0.4475593469677234\n",
            "0.4393629931273666\n",
            "0.43210222105874785\n",
            "0.42767192323815323\n",
            "0.4259939961976454\n",
            "0.42010414503907395\n",
            "0.4174374159090478\n",
            "0.4152776899188407\n",
            "0.4134145092457284\n",
            "0.41171676079783837\n",
            "0.40990959815473427\n",
            "0.4084243631554011\n",
            "0.4074722854466869\n",
            "0.406574109321754\n",
            "0.406319186217132\n",
            "0.40527976737854926\n",
            "0.40463390356490775\n",
            "0.40376688707441005\n",
            "0.403573108265826\n",
            "0.4030123978744136\n",
            "0.4025439291066229\n",
            "0.4020605814623466\n",
            "0.4013781461336615\n",
            "0.4007996554926898\n",
            "0.4000800748869604\n",
            "0.3994308181195509\n",
            "0.39857261430853574\n",
            "0.39788802041325094\n",
            "0.3969568033334968\n",
            "0.3962221418353303\n",
            "0.3956320061841489\n",
            "0.3950781774121693\n",
            "0.3946165952122385\n",
            "0.39419517182874364\n",
            "0.3940201348241554\n",
            "0.3937494241704127\n",
            "0.39356155178062957\n",
            "0.3933955246201309\n",
            "0.39313200430044204\n",
            "0.3928471199768026\n",
            "0.39252708289510974\n",
            "0.3923247717058306\n",
            "0.392044333237863\n",
            "0.39183674620425174\n",
            "0.39160760028857483\n",
            "0.3914371654262634\n",
            "0.39131262919813137\n",
            "0.3911829220944668\n",
            "0.39104448804469283\n",
            "0.39092523964485454\n",
            "0.39075706213488187\n",
            "0.3905204513554505\n",
            "0.39031824007592486\n",
            "0.39006710852616144\n",
            "0.3898301496906971\n",
            "0.3897041423351357\n",
            "0.3896182262530756\n",
            "0.3895276205749062\n",
            "0.38943887909999875\n",
            "0.38937308947195765\n",
            "0.38930637795184553\n",
            "0.38920728367963786\n",
            "0.3890919624927173\n",
            "0.3890229820508958\n",
            "0.38886930090555716\n",
            "0.38875290830771964\n",
            "0.38866597584265516\n",
            "0.3885849345898127\n",
            "0.3884730867170314\n",
            "0.38832174086051735\n",
            "0.38820420207818174\n",
            "0.3881189746422699\n",
            "0.3880344115498615\n",
            "0.3879493195350289\n",
            "0.3878484221017091\n",
            "0.3877531154001042\n",
            "0.387692956253227\n",
            "0.3876106319833664\n",
            "0.3875352481211064\n",
            "(108, 1)\n"
          ]
        }
      ]
    },
    {
      "cell_type": "code",
      "source": [
        "preds[:, 0]"
      ],
      "metadata": {
        "colab": {
          "base_uri": "https://localhost:8080/"
        },
        "id": "964etOrYg7di",
        "outputId": "7aff68d1-e7be-4151-b93a-8cd4e7ed88a5"
      },
      "execution_count": 126,
      "outputs": [
        {
          "output_type": "execute_result",
          "data": {
            "text/plain": [
              "array([0.15040901, 0.15562899, 0.160923  , 0.15804703, 0.16359614,\n",
              "       0.15707443, 0.15518228, 0.17721477, 0.18424688, 0.18059525,\n",
              "       0.16371091, 0.17313371, 0.17010794, 0.15517811, 0.15685644,\n",
              "       0.15095464, 0.14771607, 0.14883238, 0.16590615, 0.17554825,\n",
              "       0.1641262 , 0.16255189, 0.18694259, 0.14409893, 0.19611007,\n",
              "       0.16379982, 0.21603017, 0.19604315, 0.21013051, 0.30872336,\n",
              "       0.31241705, 0.27009219, 0.25499879, 0.25375939, 0.34016925,\n",
              "       0.30554109, 0.2592719 , 0.32516508, 0.29274673, 0.31754716,\n",
              "       0.29697806, 0.32641072, 0.37386318, 0.32154836, 0.35729762,\n",
              "       0.30235597, 0.33081147, 0.37202027, 0.33642158, 0.32263973,\n",
              "       0.27200378, 0.3067861 , 0.32595253, 0.28217906, 0.30768144,\n",
              "       0.27643314, 0.32504959, 0.32544395, 0.30891056, 0.35686776,\n",
              "       0.34318643, 0.39655156, 0.40711823, 0.4742661 , 0.48791878,\n",
              "       0.50114204, 0.60067633, 0.68611119, 0.68925696, 0.730452  ,\n",
              "       0.73242774, 0.76160237, 0.67623304, 0.6820447 , 0.65066539,\n",
              "       0.75784681, 0.61690546, 0.65023361, 0.73012109, 0.73139687,\n",
              "       0.75442422, 0.71679553, 0.77933176, 0.76535702, 0.75389662,\n",
              "       0.70892974, 0.63296048, 0.63001957, 0.56904983, 0.63024407,\n",
              "       0.56881725, 0.56592983, 0.60556519, 0.50005134, 0.62104332,\n",
              "       0.53686468, 0.49971137, 0.5475729 , 0.4960038 , 0.47488368,\n",
              "       0.49008816, 0.49668807, 0.49065996, 0.49345581, 0.50409552,\n",
              "       0.5406831 , 0.54830683, 0.61768432])"
            ]
          },
          "metadata": {},
          "execution_count": 126
        }
      ]
    },
    {
      "cell_type": "code",
      "source": [
        "plt.figure(figsize=(30, 6))\n",
        "plt.plot(test_y.reset_index()[9])\n",
        "plt.plot(preds)\n",
        "plt.show()"
      ],
      "metadata": {
        "colab": {
          "base_uri": "https://localhost:8080/",
          "height": 374
        },
        "id": "4E62p9vtn827",
        "outputId": "62b1ad24-8024-4a7f-cfc3-2f0736845019"
      },
      "execution_count": 127,
      "outputs": [
        {
          "output_type": "display_data",
          "data": {
            "text/plain": [
              "<Figure size 2160x432 with 1 Axes>"
            ],
            "image/png": "[encoded data removed]"
          },
          "metadata": {
            "needs_background": "light"
          }
        }
      ]
    },
    {
      "cell_type": "code",
      "source": [],
      "metadata": {
        "id": "Vd6YIzAqoAz1"
      },
      "execution_count": null,
      "outputs": []
    }
  ]
}