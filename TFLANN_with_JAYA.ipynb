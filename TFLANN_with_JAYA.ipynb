{
  "nbformat": 4,
  "nbformat_minor": 0,
  "metadata": {
    "colab": {
      "provenance": [],
      "authorship_tag": "ABX9TyOemw6HmDueUr9KgtyZTHTD",
      "include_colab_link": true
    },
    "kernelspec": {
      "name": "python3",
      "display_name": "Python 3"
    },
    "language_info": {
      "name": "python"
    }
  },
  "cells": [
    {
      "cell_type": "markdown",
      "metadata": {
        "id": "view-in-github",
        "colab_type": "text"
      },
      "source": [
        "<a href=\"https://colab.research.google.com/github/abhinav-exp/Forecasting-CryptoCurrency-Prices/blob/master/TFLANN_with_JAYA.ipynb\" target=\"_parent\"><img src=\"https://colab.research.google.com/assets/colab-badge.svg\" alt=\"Open In Colab\"/></a>"
      ]
    },
    {
      "cell_type": "code",
      "execution_count": 2,
      "metadata": {
        "id": "MJpkw8XK_eyB"
      },
      "outputs": [],
      "source": [
        "import numpy as np\n",
        "import pandas as pd\n",
        "import matplotlib.pyplot as plt"
      ]
    },
    {
      "cell_type": "code",
      "source": [
        "GitHubDataLink = 'https://raw.githubusercontent.com/abhinav-exp/Forecasting-CryptoCurrency-Prices/master/Datasets/'\n",
        "InputFileLink = GitHubDataLink + 'DataBTC2017.csv'\n",
        "data1 = pd.read_csv(InputFileLink, header=0, index_col=0)\n",
        "print(data1)"
      ],
      "metadata": {
        "colab": {
          "base_uri": "https://localhost:8080/"
        },
        "id": "uGTgzwMu_u6f",
        "outputId": "539aef24-b732-457c-b383-5c9cfa9388e5"
      },
      "execution_count": 3,
      "outputs": [
        {
          "output_type": "stream",
          "name": "stdout",
          "text": [
            "            CBBTCUSD\n",
            "DATE                \n",
            "2017-06-18   2515.25\n",
            "2017-06-19   2596.98\n",
            "2017-06-20   2725.08\n",
            "2017-06-21   2643.35\n",
            "2017-06-22   2679.99\n",
            "...              ...\n",
            "2019-08-03  10820.75\n",
            "2019-08-04  10997.82\n",
            "2019-08-05  11775.14\n",
            "2019-08-06  11440.08\n",
            "2019-08-07  12014.41\n",
            "\n",
            "[781 rows x 1 columns]\n"
          ]
        }
      ]
    },
    {
      "cell_type": "code",
      "source": [
        "data1min = data1.min()\n",
        "data1max = data1.max()\n",
        "\n",
        "normalize = lambda x: (x - data1min + 1)/(data1max - data1min + 2)\n",
        "data2 = normalize(data1)\n",
        "print(data2)"
      ],
      "metadata": {
        "colab": {
          "base_uri": "https://localhost:8080/"
        },
        "id": "6xbuQlIj_3E3",
        "outputId": "10dbce7c-a2ae-401b-92e0-9a78b5f565a4"
      },
      "execution_count": 4,
      "outputs": [
        {
          "output_type": "stream",
          "name": "stdout",
          "text": [
            "            CBBTCUSD\n",
            "DATE                \n",
            "2017-06-18  0.034073\n",
            "2017-06-19  0.038680\n",
            "2017-06-20  0.045901\n",
            "2017-06-21  0.041294\n",
            "2017-06-22  0.043360\n",
            "...              ...\n",
            "2019-08-03  0.502247\n",
            "2019-08-04  0.512228\n",
            "2019-08-05  0.556045\n",
            "2019-08-06  0.537158\n",
            "2019-08-07  0.569532\n",
            "\n",
            "[781 rows x 1 columns]\n"
          ]
        }
      ]
    },
    {
      "cell_type": "code",
      "source": [
        "def split_sequence(sequence, n_steps):\n",
        "  X= list()\n",
        "  for i in range(len(sequence) - n_steps):\n",
        "    end_ix = i + n_steps\n",
        "    seq_x= sequence.values[i:end_ix, 0]\n",
        "    X.append(seq_x) \n",
        "  return pd.DataFrame(X)\n",
        "\n",
        "data3 = split_sequence(data2, 10)\n",
        "print(data3.shape)\n",
        "print(data3)"
      ],
      "metadata": {
        "colab": {
          "base_uri": "https://localhost:8080/"
        },
        "id": "YPoW8oUUAPrg",
        "outputId": "a7bc4b51-6a15-4132-a60d-8aca9186ba84"
      },
      "execution_count": 5,
      "outputs": [
        {
          "output_type": "stream",
          "name": "stdout",
          "text": [
            "(771, 10)\n",
            "            0         1         2         3         4         5         6  \\\n",
            "0    0.034073  0.038680  0.045901  0.041294  0.043360  0.043967  0.037432   \n",
            "1    0.038680  0.045901  0.041294  0.043360  0.043967  0.037432  0.033530   \n",
            "2    0.045901  0.041294  0.043360  0.043967  0.037432  0.033530  0.028023   \n",
            "3    0.041294  0.043360  0.043967  0.037432  0.033530  0.028023  0.037484   \n",
            "4    0.043360  0.043967  0.037432  0.033530  0.028023  0.037484  0.036208   \n",
            "..        ...       ...       ...       ...       ...       ...       ...   \n",
            "766  0.441959  0.449255  0.447073  0.426045  0.430599  0.427984  0.432307   \n",
            "767  0.449255  0.447073  0.426045  0.430599  0.427984  0.432307  0.461562   \n",
            "768  0.447073  0.426045  0.430599  0.427984  0.432307  0.461562  0.479501   \n",
            "769  0.426045  0.430599  0.427984  0.432307  0.461562  0.479501  0.486030   \n",
            "770  0.430599  0.427984  0.432307  0.461562  0.479501  0.486030  0.502247   \n",
            "\n",
            "            7         8         9  \n",
            "0    0.033530  0.028023  0.037484  \n",
            "1    0.028023  0.037484  0.036208  \n",
            "2    0.037484  0.036208  0.034905  \n",
            "3    0.036208  0.034905  0.030688  \n",
            "4    0.034905  0.030688  0.028909  \n",
            "..        ...       ...       ...  \n",
            "766  0.461562  0.479501  0.486030  \n",
            "767  0.479501  0.486030  0.502247  \n",
            "768  0.486030  0.502247  0.512228  \n",
            "769  0.502247  0.512228  0.556045  \n",
            "770  0.512228  0.556045  0.537158  \n",
            "\n",
            "[771 rows x 10 columns]\n"
          ]
        }
      ]
    },
    {
      "cell_type": "code",
      "source": [
        "train_x = data3.iloc[:int(0.85*len(data2)), :9]\n",
        "train_y = data3.iloc[:int(0.85*len(data2)), 9:10]\n",
        "test_x = data3.iloc[int(0.85*len(data2)):, :9]\n",
        "test_y = data3.iloc[int(0.85*len(data2)):, 9:10]\n",
        "print(train_x.shape)\n",
        "print(train_y.shape)\n",
        "print(test_x.shape)\n",
        "print(test_y.shape)"
      ],
      "metadata": {
        "colab": {
          "base_uri": "https://localhost:8080/"
        },
        "id": "cPsGQSxEAS3t",
        "outputId": "ddef0575-264c-422b-9a8c-326c47f5d9a8"
      },
      "execution_count": 6,
      "outputs": [
        {
          "output_type": "stream",
          "name": "stdout",
          "text": [
            "(663, 9)\n",
            "(663, 1)\n",
            "(108, 9)\n",
            "(108, 1)\n"
          ]
        }
      ]
    },
    {
      "cell_type": "code",
      "source": [
        "class TFLANN():\n",
        "  def __init__(self, W):\n",
        "    self.weight_matrix = W\n",
        "  \n",
        "  def func_x(self, x):\n",
        "    const_x = np.ones((len(x), 1))\n",
        "    orginal_x = x\n",
        "    sinned_x = np.sin(np.pi*x)\n",
        "    cossed_x = np.cos(np.pi*x)\n",
        "    # print(const_x)\n",
        "    # print(x.shape)\n",
        "    # print(const_x.shape)\n",
        "    functioned_x = np.hstack((x, sinned_x, cossed_x, const_x))\n",
        "    return functioned_x\n",
        "\n",
        "  def forward_propagation(self, x):\n",
        "    funced_x = self.func_x(x)\n",
        "    return (np.tanh(np.dot(funced_x, self.weight_matrix)) + 1)/2"
      ],
      "metadata": {
        "id": "wo_fmfrcAYhD"
      },
      "execution_count": 70,
      "outputs": []
    },
    {
      "cell_type": "code",
      "source": [
        "find_mse = lambda x , y: np.mean((x - y) ** 2)\n",
        "\n",
        "class JAYATFLANN():\n",
        "  def __init__(self, p_size):\n",
        "    self.p_size = p_size\n",
        "    self.data = []\n",
        "\n",
        "    for i in range(p_size):\n",
        "      d = {}\n",
        "      d['W'] = np.random.random((9*3 + 1, 1))\n",
        "      model = TFLANN(d['W'])\n",
        "      d['mse'] = find_mse(model.forward_propagation(train_x), train_y)\n",
        "      self.data.append(d)\n",
        "\n",
        "    print(sum([v['mse'][9] for v in self.data]))\n",
        "    print([v['mse'][9] for v in self.data])\n",
        "\n",
        "    self.update_best_and_worst()\n",
        "\n",
        "  def update_best_and_worst(self):\n",
        "    self.best = 0\n",
        "    self.worst = 0\n",
        "    for i in range(self.p_size):\n",
        "      if self.data[self.best]['mse'][9] > self.data[i]['mse'][9]:\n",
        "        self.best = i\n",
        "      if self.data[self.worst]['mse'][9] < self.data[i]['mse'][9]:\n",
        "        self.worst = i\n",
        "\n",
        "  def next_gen(self):\n",
        "    for i in range(self.p_size):\n",
        "      t =  self.data[i]['W']\n",
        "      t += np.random.random((9*3 + 1, 1)) * (self.data[self.best]['W'] - self.data[i]['W'])\n",
        "      t -= np.random.random((9*3 + 1, 1)) * (self.data[self.worst]['W'] - self.data[i]['W'])\n",
        "      model = TFLANN(t)\n",
        "      mse = find_mse(model.forward_propagation(train_x), train_y)\n",
        "      if mse[9] < self.data[i]['mse'][9]:\n",
        "        self.data[i] = {'W': t, 'mse':mse}\n",
        "\n",
        "    self.update_best_and_worst()\n",
        "\n",
        "  def optimise(self, gen):\n",
        "    for i in range(gen):\n",
        "      self.next_gen()\n",
        "      print(sum([v['mse'][9] for v in self.data]))"
      ],
      "metadata": {
        "id": "Qw5N763xCnqB"
      },
      "execution_count": 77,
      "outputs": []
    },
    {
      "cell_type": "code",
      "source": [
        "optimiser = JAYATFLANN(50)\n",
        "optimiser.optimise(100)\n",
        "model = TFLANN(optimiser.data[optimiser.best]['W'])\n",
        "preds = model.forward_propagation(test_x)\n",
        "print(preds.shape)"
      ],
      "metadata": {
        "colab": {
          "base_uri": "https://localhost:8080/"
        },
        "id": "AjfADHz5gU2B",
        "outputId": "7e689870-6577-455a-d3a4-b236c0fe11c5"
      },
      "execution_count": 78,
      "outputs": [
        {
          "output_type": "stream",
          "name": "stderr",
          "text": [
            "/usr/local/lib/python3.9/dist-packages/numpy/core/fromnumeric.py:3472: FutureWarning: In a future version, DataFrame.mean(axis=None) will return a scalar mean over the entire DataFrame. To retain the old behavior, use 'frame.mean(axis=0)' or just 'frame.mean()'\n",
            "  return mean(axis=axis, dtype=dtype, out=out, **kwargs)\n"
          ]
        },
        {
          "output_type": "stream",
          "name": "stdout",
          "text": [
            "28.635683955716317\n",
            "[0.5723132158159119, 0.5726000068510442, 0.5724476731418173, 0.5726836449876642, 0.5765712932242646, 0.5726472957269645, 0.5726948913916152, 0.5724180603269621, 0.5722988684855158, 0.5723309418143149, 0.5733605830060867, 0.5724416493767689, 0.5724466170556893, 0.5725279821181043, 0.5726642252940995, 0.5722563795866122, 0.5725763757577781, 0.5726696132738704, 0.572616464579294, 0.5726737051655225, 0.5725300863229117, 0.5722675536783001, 0.5723620388259771, 0.5724662625305068, 0.5726879041007745, 0.5726908328698207, 0.5723216219379348, 0.5726372459429413, 0.572661473555319, 0.5721017201945382, 0.572543491151585, 0.5723959903885489, 0.5726031795168881, 0.5726562520056504, 0.5750237053411504, 0.5726788974399298, 0.5726568237695951, 0.5726733154484015, 0.5725743056736649, 0.572625877415963, 0.5725764798140007, 0.5726270768857564, 0.5726712595883072, 0.573868033364586, 0.5726849642090859, 0.5726860949941359, 0.5726944682859614, 0.5726540017192033, 0.5722157005419808, 0.5726078112229985]\n",
            "28.62403174650308\n",
            "28.616505599658158\n",
            "28.561824733592758\n",
            "25.718209122696567\n",
            "8.438765504649831\n",
            "3.639532411149202\n",
            "3.223375754369713\n",
            "3.1587406781129057\n",
            "3.0829103230027552\n",
            "3.0747324943706826\n",
            "2.9446475066088746\n",
            "2.6288644226481654\n",
            "2.311447656485103\n",
            "2.173707588689726\n",
            "1.997190867469562\n",
            "1.949340277353872\n",
            "1.8643937408971751\n",
            "1.706576280599495\n",
            "1.6242149343748187\n",
            "1.5677588063670667\n",
            "1.5351606732196594\n",
            "1.52577548686335\n",
            "1.5253456318864298\n",
            "1.5253456318864298\n",
            "1.5253456318864298\n",
            "1.5253456318864298\n",
            "1.5253456318864298\n",
            "1.5253456318864298\n",
            "1.5253456318864298\n",
            "1.5253456318864298\n",
            "1.5253456318864298\n",
            "1.5253456318864298\n",
            "1.5253456318864298\n",
            "1.5253456318864298\n",
            "1.5253456318864298\n",
            "1.5253456318864298\n",
            "1.5253456318864298\n",
            "1.5253456318864298\n",
            "1.5253456318864298\n",
            "1.5253456318864298\n",
            "1.5253456318864298\n",
            "1.5253456318864298\n",
            "1.5253456318864298\n",
            "1.5253456318864298\n",
            "1.5253456318864298\n",
            "1.5253456318864298\n",
            "1.5253456318864298\n",
            "1.5253456318864298\n",
            "1.5253456318864298\n",
            "1.5253456318864298\n",
            "1.5253456318864298\n",
            "1.5253456318864298\n",
            "1.5253456318864298\n",
            "1.5253456318864298\n",
            "1.5253456318864298\n",
            "1.5253456318864298\n",
            "1.5253456318864298\n",
            "1.5253456318864298\n",
            "1.5253456318864298\n",
            "1.5253456318864298\n",
            "1.5253456318864298\n",
            "1.5253456318864298\n",
            "1.5253456318864298\n",
            "1.5253456318864298\n",
            "1.5253456318864298\n",
            "1.5253456318864298\n",
            "1.5253456318864298\n",
            "1.5253456318864298\n",
            "1.5253456318864298\n",
            "1.5253456318864298\n",
            "1.5253456318864298\n",
            "1.5253456318864298\n",
            "1.5253456318864298\n",
            "1.5253456318864298\n",
            "1.5253456318864298\n",
            "1.5253456318864298\n",
            "1.5253456318864298\n",
            "1.5253456318864298\n",
            "1.5253456318864298\n",
            "1.5253456318864298\n",
            "1.5253456318864298\n",
            "1.5253456318864298\n",
            "1.5253456318864298\n",
            "1.5253456318864298\n",
            "1.5253456318864298\n",
            "1.5253456318864298\n",
            "1.5253456318864298\n",
            "1.5253456318864298\n",
            "1.5253456318864298\n",
            "1.5253456318864298\n",
            "1.5253456318864298\n",
            "1.5253456318864298\n",
            "1.5253456318864298\n",
            "1.5253456318864298\n",
            "1.5253456318864298\n",
            "1.5253456318864298\n",
            "1.5253456318864298\n",
            "1.5253456318864298\n",
            "1.5253456318864298\n",
            "1.5253456318864298\n",
            "(108, 1)\n"
          ]
        }
      ]
    },
    {
      "cell_type": "code",
      "source": [
        "preds[:, 0]"
      ],
      "metadata": {
        "colab": {
          "base_uri": "https://localhost:8080/"
        },
        "id": "964etOrYg7di",
        "outputId": "2d2d87ff-8ea8-4eab-b550-999e58c5d6c2"
      },
      "execution_count": 79,
      "outputs": [
        {
          "output_type": "execute_result",
          "data": {
            "text/plain": [
              "array([0.42350234, 0.3985213 , 0.41890429, 0.44478734, 0.42837606,\n",
              "       0.37567019, 0.40948216, 0.44142409, 0.35987823, 0.29711702,\n",
              "       0.35798917, 0.35284747, 0.36244731, 0.42920731, 0.49313354,\n",
              "       0.47593266, 0.50496401, 0.58774533, 0.59033495, 0.58996818,\n",
              "       0.61771197, 0.76259719, 0.79018933, 0.87915216, 0.93340442,\n",
              "       0.96595012, 0.92309501, 0.9456278 , 0.89909748, 0.94279059,\n",
              "       0.90587071, 0.83650997, 0.851392  , 0.93021701, 0.90280524,\n",
              "       0.92135294, 0.94189337, 0.95778606, 0.9520276 , 0.95928309,\n",
              "       0.96171128, 0.95109934, 0.95060132, 0.94827105, 0.88044932,\n",
              "       0.8777569 , 0.87423863, 0.88508358, 0.835813  , 0.84675635,\n",
              "       0.83505422, 0.8846996 , 0.91193865, 0.91206142, 0.91330904,\n",
              "       0.95846333, 0.95442684, 0.97098672, 0.97929879, 0.97883527,\n",
              "       0.97902759, 0.98366304, 0.99084417, 0.99270448, 0.99508484,\n",
              "       0.99615138, 0.99825781, 0.99942131, 0.99684679, 0.9986247 ,\n",
              "       0.99633973, 0.98289738, 0.98234659, 0.97472714, 0.99007714,\n",
              "       0.98795328, 0.98699412, 0.98801241, 0.99200748, 0.99733744,\n",
              "       0.99819407, 0.99668637, 0.99278048, 0.99350243, 0.98865321,\n",
              "       0.96604801, 0.97434715, 0.89274056, 0.91415268, 0.97253856,\n",
              "       0.97720842, 0.9766851 , 0.98949673, 0.98635123, 0.97657388,\n",
              "       0.97688785, 0.9706238 , 0.96459693, 0.94806494, 0.95546814,\n",
              "       0.9604508 , 0.96517736, 0.97919421, 0.98766912, 0.98912373,\n",
              "       0.99339883, 0.99552896, 0.99774119])"
            ]
          },
          "metadata": {},
          "execution_count": 79
        }
      ]
    },
    {
      "cell_type": "code",
      "source": [
        "plt.figure(figsize=(30, 6))\n",
        "plt.plot(test_y.reset_index()[9])\n",
        "plt.plot(preds)\n",
        "plt.show()"
      ],
      "metadata": {
        "colab": {
          "base_uri": "https://localhost:8080/",
          "height": 374
        },
        "id": "4E62p9vtn827",
        "outputId": "f824143e-321f-4d69-cf9a-ee2e4048ef07"
      },
      "execution_count": 80,
      "outputs": [
        {
          "output_type": "display_data",
          "data": {
            "text/plain": [
              "<Figure size 2160x432 with 1 Axes>"
            ],
            "image/png": "[encoded data removed]"
          },
          "metadata": {
            "needs_background": "light"
          }
        }
      ]
    },
    {
      "cell_type": "code",
      "source": [],
      "metadata": {
        "id": "Vd6YIzAqoAz1"
      },
      "execution_count": null,
      "outputs": []
    }
  ]
}