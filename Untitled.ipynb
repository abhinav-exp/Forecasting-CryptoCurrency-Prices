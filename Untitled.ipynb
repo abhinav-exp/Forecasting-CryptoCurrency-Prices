{
 "cells": [
  {
   "cell_type": "code",
   "execution_count": 27,
   "id": "9239884e",
   "metadata": {},
   "outputs": [],
   "source": [
    "import pandas as pd\n",
    "import numpy as np"
   ]
  },
  {
   "cell_type": "code",
   "execution_count": 12,
   "id": "c3b28f17",
   "metadata": {},
   "outputs": [],
   "source": [
    "df = pd.read_csv('FullDatasets/FULL_BTC.csv', index_col=0, header = 0)"
   ]
  },
  {
   "cell_type": "code",
   "execution_count": 15,
   "id": "b38dfd38",
   "metadata": {},
   "outputs": [
    {
     "data": {
      "text/html": [
       "<div>\n",
       "<style scoped>\n",
       "    .dataframe tbody tr th:only-of-type {\n",
       "        vertical-align: middle;\n",
       "    }\n",
       "\n",
       "    .dataframe tbody tr th {\n",
       "        vertical-align: top;\n",
       "    }\n",
       "\n",
       "    .dataframe thead th {\n",
       "        text-align: right;\n",
       "    }\n",
       "</style>\n",
       "<table border=\"1\" class=\"dataframe\">\n",
       "  <thead>\n",
       "    <tr style=\"text-align: right;\">\n",
       "      <th></th>\n",
       "      <th>BTC / Price, USD</th>\n",
       "    </tr>\n",
       "    <tr>\n",
       "      <th>Time</th>\n",
       "      <th></th>\n",
       "    </tr>\n",
       "  </thead>\n",
       "  <tbody>\n",
       "    <tr>\n",
       "      <th>2010-07-18</th>\n",
       "      <td>0.085840</td>\n",
       "    </tr>\n",
       "    <tr>\n",
       "      <th>2010-07-19</th>\n",
       "      <td>0.080800</td>\n",
       "    </tr>\n",
       "    <tr>\n",
       "      <th>2010-07-20</th>\n",
       "      <td>0.074736</td>\n",
       "    </tr>\n",
       "    <tr>\n",
       "      <th>2010-07-21</th>\n",
       "      <td>0.079193</td>\n",
       "    </tr>\n",
       "    <tr>\n",
       "      <th>2010-07-22</th>\n",
       "      <td>0.058470</td>\n",
       "    </tr>\n",
       "    <tr>\n",
       "      <th>...</th>\n",
       "      <td>...</td>\n",
       "    </tr>\n",
       "    <tr>\n",
       "      <th>2023-04-21</th>\n",
       "      <td>27292.021105</td>\n",
       "    </tr>\n",
       "    <tr>\n",
       "      <th>2023-04-22</th>\n",
       "      <td>27827.547592</td>\n",
       "    </tr>\n",
       "    <tr>\n",
       "      <th>2023-04-23</th>\n",
       "      <td>27604.685574</td>\n",
       "    </tr>\n",
       "    <tr>\n",
       "      <th>2023-04-24</th>\n",
       "      <td>27520.199673</td>\n",
       "    </tr>\n",
       "    <tr>\n",
       "      <th>2023-04-25</th>\n",
       "      <td>28302.694218</td>\n",
       "    </tr>\n",
       "  </tbody>\n",
       "</table>\n",
       "<p>4665 rows × 1 columns</p>\n",
       "</div>"
      ],
      "text/plain": [
       "            BTC / Price, USD\n",
       "Time                        \n",
       "2010-07-18          0.085840\n",
       "2010-07-19          0.080800\n",
       "2010-07-20          0.074736\n",
       "2010-07-21          0.079193\n",
       "2010-07-22          0.058470\n",
       "...                      ...\n",
       "2023-04-21      27292.021105\n",
       "2023-04-22      27827.547592\n",
       "2023-04-23      27604.685574\n",
       "2023-04-24      27520.199673\n",
       "2023-04-25      28302.694218\n",
       "\n",
       "[4665 rows x 1 columns]"
      ]
     },
     "execution_count": 15,
     "metadata": {},
     "output_type": "execute_result"
    }
   ],
   "source": [
    "df"
   ]
  },
  {
   "cell_type": "code",
   "execution_count": 32,
   "id": "fd923316",
   "metadata": {},
   "outputs": [
    {
     "data": {
      "text/plain": [
       "4550"
      ]
     },
     "execution_count": 32,
     "metadata": {},
     "output_type": "execute_result"
    }
   ],
   "source": [
    "u = (df.index < '2023-01-01')\n",
    "np.sum(u)"
   ]
  },
  {
   "cell_type": "code",
   "execution_count": 41,
   "id": "07b04901",
   "metadata": {},
   "outputs": [
    {
     "data": {
      "text/plain": [
       "845"
      ]
     },
     "execution_count": 41,
     "metadata": {},
     "output_type": "execute_result"
    }
   ],
   "source": [
    "v = (df.index > '2020-12-31')\n",
    "np.sum(v)"
   ]
  },
  {
   "cell_type": "code",
   "execution_count": 42,
   "id": "fe54b2e7",
   "metadata": {},
   "outputs": [
    {
     "data": {
      "text/plain": [
       "730"
      ]
     },
     "execution_count": 42,
     "metadata": {},
     "output_type": "execute_result"
    }
   ],
   "source": [
    "np.sum(u * v)"
   ]
  },
  {
   "cell_type": "code",
   "execution_count": 43,
   "id": "d5928896",
   "metadata": {},
   "outputs": [
    {
     "data": {
      "text/html": [
       "<div>\n",
       "<style scoped>\n",
       "    .dataframe tbody tr th:only-of-type {\n",
       "        vertical-align: middle;\n",
       "    }\n",
       "\n",
       "    .dataframe tbody tr th {\n",
       "        vertical-align: top;\n",
       "    }\n",
       "\n",
       "    .dataframe thead th {\n",
       "        text-align: right;\n",
       "    }\n",
       "</style>\n",
       "<table border=\"1\" class=\"dataframe\">\n",
       "  <thead>\n",
       "    <tr style=\"text-align: right;\">\n",
       "      <th></th>\n",
       "      <th>BTC / Price, USD</th>\n",
       "    </tr>\n",
       "    <tr>\n",
       "      <th>Time</th>\n",
       "      <th></th>\n",
       "    </tr>\n",
       "  </thead>\n",
       "  <tbody>\n",
       "    <tr>\n",
       "      <th>2021-01-01</th>\n",
       "      <td>29380.693733</td>\n",
       "    </tr>\n",
       "    <tr>\n",
       "      <th>2021-01-02</th>\n",
       "      <td>32022.681058</td>\n",
       "    </tr>\n",
       "    <tr>\n",
       "      <th>2021-01-03</th>\n",
       "      <td>33277.835305</td>\n",
       "    </tr>\n",
       "    <tr>\n",
       "      <th>2021-01-04</th>\n",
       "      <td>31802.146714</td>\n",
       "    </tr>\n",
       "    <tr>\n",
       "      <th>2021-01-05</th>\n",
       "      <td>34013.174172</td>\n",
       "    </tr>\n",
       "    <tr>\n",
       "      <th>...</th>\n",
       "      <td>...</td>\n",
       "    </tr>\n",
       "    <tr>\n",
       "      <th>2022-12-27</th>\n",
       "      <td>16698.911271</td>\n",
       "    </tr>\n",
       "    <tr>\n",
       "      <th>2022-12-28</th>\n",
       "      <td>16536.294200</td>\n",
       "    </tr>\n",
       "    <tr>\n",
       "      <th>2022-12-29</th>\n",
       "      <td>16630.593155</td>\n",
       "    </tr>\n",
       "    <tr>\n",
       "      <th>2022-12-30</th>\n",
       "      <td>16593.688829</td>\n",
       "    </tr>\n",
       "    <tr>\n",
       "      <th>2022-12-31</th>\n",
       "      <td>16524.217802</td>\n",
       "    </tr>\n",
       "  </tbody>\n",
       "</table>\n",
       "<p>730 rows × 1 columns</p>\n",
       "</div>"
      ],
      "text/plain": [
       "            BTC / Price, USD\n",
       "Time                        \n",
       "2021-01-01      29380.693733\n",
       "2021-01-02      32022.681058\n",
       "2021-01-03      33277.835305\n",
       "2021-01-04      31802.146714\n",
       "2021-01-05      34013.174172\n",
       "...                      ...\n",
       "2022-12-27      16698.911271\n",
       "2022-12-28      16536.294200\n",
       "2022-12-29      16630.593155\n",
       "2022-12-30      16593.688829\n",
       "2022-12-31      16524.217802\n",
       "\n",
       "[730 rows x 1 columns]"
      ]
     },
     "execution_count": 43,
     "metadata": {},
     "output_type": "execute_result"
    }
   ],
   "source": [
    "df[u * v]"
   ]
  },
  {
   "cell_type": "code",
   "execution_count": 45,
   "id": "570fffd9",
   "metadata": {},
   "outputs": [],
   "source": [
    "df[u*v].to_csv('U.csv')"
   ]
  },
  {
   "cell_type": "code",
   "execution_count": 47,
   "id": "d91986f5",
   "metadata": {},
   "outputs": [],
   "source": [
    "qw = [['2023-01-01', '2020-12-31'], ['2021-01-01', '2018-12-31'], ['2019-01-01', '2016-12-31'], ['2017-01-01', '2014-12-31'],]"
   ]
  },
  {
   "cell_type": "code",
   "execution_count": 48,
   "id": "0c855bc8",
   "metadata": {},
   "outputs": [
    {
     "data": {
      "text/plain": [
       "[['2023-01-01', '2020-12-31'],\n",
       " ['2021-01-01', '2018-12-31'],\n",
       " ['2019-01-01', '2016-12-31'],\n",
       " ['2017-01-01', '2014-12-31']]"
      ]
     },
     "execution_count": 48,
     "metadata": {},
     "output_type": "execute_result"
    }
   ],
   "source": [
    "qw"
   ]
  },
  {
   "cell_type": "code",
   "execution_count": 67,
   "id": "2ceb820a",
   "metadata": {},
   "outputs": [
    {
     "name": "stdout",
     "output_type": "stream",
     "text": [
      "BTC:2021:2022\n",
      "BTC:2019:2020\n",
      "BTC:2017:2018\n",
      "BTC:2015:2016\n"
     ]
    }
   ],
   "source": [
    "for q in qw:\n",
    "    u = (df.index < q[0])\n",
    "    v = (df.index > q[1])\n",
    "    l = print('BTC:' + str(int(q[1][:4]) + 1) + \":\" + str(int(q[0][:4]) - 1))\n",
    "    df[u * v].to_csv('PDataSets/'+'BTC:' + str(int(q[1][:4]) + 1) + \":\" + str(int(q[0][:4]) - 1) + '.csv')"
   ]
  },
  {
   "cell_type": "code",
   "execution_count": null,
   "id": "2a99de65",
   "metadata": {},
   "outputs": [],
   "source": []
  }
 ],
 "metadata": {
  "kernelspec": {
   "display_name": "Python 3 (ipykernel)",
   "language": "python",
   "name": "python3"
  },
  "language_info": {
   "codemirror_mode": {
    "name": "ipython",
    "version": 3
   },
   "file_extension": ".py",
   "mimetype": "text/x-python",
   "name": "python",
   "nbconvert_exporter": "python",
   "pygments_lexer": "ipython3",
   "version": "3.8.10"
  }
 },
 "nbformat": 4,
 "nbformat_minor": 5
}
