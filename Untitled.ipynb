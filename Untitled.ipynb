{
 "cells": [
  {
   "cell_type": "code",
   "execution_count": 17,
   "id": "412f1076",
   "metadata": {},
   "outputs": [],
   "source": [
    "import pandas as pd\n",
    "import numpy as np"
   ]
  },
  {
   "cell_type": "code",
   "execution_count": 14,
   "id": "526ee99c",
   "metadata": {},
   "outputs": [],
   "source": [
    "df = pd.read_csv('FullDatasets/FULL_ETH.csv', index_col=0, header = 0)"
   ]
  },
  {
   "cell_type": "code",
   "execution_count": 15,
   "id": "fd3a9d7b",
   "metadata": {},
   "outputs": [
    {
     "data": {
      "text/html": [
       "<div>\n",
       "<style scoped>\n",
       "    .dataframe tbody tr th:only-of-type {\n",
       "        vertical-align: middle;\n",
       "    }\n",
       "\n",
       "    .dataframe tbody tr th {\n",
       "        vertical-align: top;\n",
       "    }\n",
       "\n",
       "    .dataframe thead th {\n",
       "        text-align: right;\n",
       "    }\n",
       "</style>\n",
       "<table border=\"1\" class=\"dataframe\">\n",
       "  <thead>\n",
       "    <tr style=\"text-align: right;\">\n",
       "      <th></th>\n",
       "      <th>ETH / Price, USD</th>\n",
       "    </tr>\n",
       "    <tr>\n",
       "      <th>Time</th>\n",
       "      <th></th>\n",
       "    </tr>\n",
       "  </thead>\n",
       "  <tbody>\n",
       "    <tr>\n",
       "      <th>2015-08-08</th>\n",
       "      <td>1.199990</td>\n",
       "    </tr>\n",
       "    <tr>\n",
       "      <th>2015-08-09</th>\n",
       "      <td>1.199990</td>\n",
       "    </tr>\n",
       "    <tr>\n",
       "      <th>2015-08-10</th>\n",
       "      <td>1.199990</td>\n",
       "    </tr>\n",
       "    <tr>\n",
       "      <th>2015-08-11</th>\n",
       "      <td>0.990000</td>\n",
       "    </tr>\n",
       "    <tr>\n",
       "      <th>2015-08-12</th>\n",
       "      <td>1.288000</td>\n",
       "    </tr>\n",
       "    <tr>\n",
       "      <th>...</th>\n",
       "      <td>...</td>\n",
       "    </tr>\n",
       "    <tr>\n",
       "      <th>2023-04-21</th>\n",
       "      <td>1849.590967</td>\n",
       "    </tr>\n",
       "    <tr>\n",
       "      <th>2023-04-22</th>\n",
       "      <td>1875.556418</td>\n",
       "    </tr>\n",
       "    <tr>\n",
       "      <th>2023-04-23</th>\n",
       "      <td>1862.817309</td>\n",
       "    </tr>\n",
       "    <tr>\n",
       "      <th>2023-04-24</th>\n",
       "      <td>1842.867721</td>\n",
       "    </tr>\n",
       "    <tr>\n",
       "      <th>2023-04-25</th>\n",
       "      <td>1868.055646</td>\n",
       "    </tr>\n",
       "  </tbody>\n",
       "</table>\n",
       "<p>2818 rows × 1 columns</p>\n",
       "</div>"
      ],
      "text/plain": [
       "            ETH / Price, USD\n",
       "Time                        \n",
       "2015-08-08          1.199990\n",
       "2015-08-09          1.199990\n",
       "2015-08-10          1.199990\n",
       "2015-08-11          0.990000\n",
       "2015-08-12          1.288000\n",
       "...                      ...\n",
       "2023-04-21       1849.590967\n",
       "2023-04-22       1875.556418\n",
       "2023-04-23       1862.817309\n",
       "2023-04-24       1842.867721\n",
       "2023-04-25       1868.055646\n",
       "\n",
       "[2818 rows x 1 columns]"
      ]
     },
     "execution_count": 15,
     "metadata": {},
     "output_type": "execute_result"
    }
   ],
   "source": [
    "df"
   ]
  },
  {
   "cell_type": "code",
   "execution_count": 18,
   "id": "944dff36",
   "metadata": {},
   "outputs": [
    {
     "data": {
      "text/plain": [
       "2703"
      ]
     },
     "execution_count": 18,
     "metadata": {},
     "output_type": "execute_result"
    }
   ],
   "source": [
    "u = (df.index < '2023-01-01')\n",
    "np.sum(u)"
   ]
  },
  {
   "cell_type": "code",
   "execution_count": 19,
   "id": "0a9825d8",
   "metadata": {},
   "outputs": [
    {
     "data": {
      "text/plain": [
       "845"
      ]
     },
     "execution_count": 19,
     "metadata": {},
     "output_type": "execute_result"
    }
   ],
   "source": [
    "v = (df.index > '2020-12-31')\n",
    "np.sum(v)"
   ]
  },
  {
   "cell_type": "code",
   "execution_count": 20,
   "id": "a53235d2",
   "metadata": {},
   "outputs": [
    {
     "data": {
      "text/plain": [
       "730"
      ]
     },
     "execution_count": 20,
     "metadata": {},
     "output_type": "execute_result"
    }
   ],
   "source": [
    "np.sum(u * v)"
   ]
  },
  {
   "cell_type": "code",
   "execution_count": 21,
   "id": "4657978a",
   "metadata": {},
   "outputs": [
    {
     "data": {
      "text/html": [
       "<div>\n",
       "<style scoped>\n",
       "    .dataframe tbody tr th:only-of-type {\n",
       "        vertical-align: middle;\n",
       "    }\n",
       "\n",
       "    .dataframe tbody tr th {\n",
       "        vertical-align: top;\n",
       "    }\n",
       "\n",
       "    .dataframe thead th {\n",
       "        text-align: right;\n",
       "    }\n",
       "</style>\n",
       "<table border=\"1\" class=\"dataframe\">\n",
       "  <thead>\n",
       "    <tr style=\"text-align: right;\">\n",
       "      <th></th>\n",
       "      <th>ETH / Price, USD</th>\n",
       "    </tr>\n",
       "    <tr>\n",
       "      <th>Time</th>\n",
       "      <th></th>\n",
       "    </tr>\n",
       "  </thead>\n",
       "  <tbody>\n",
       "    <tr>\n",
       "      <th>2021-01-01</th>\n",
       "      <td>730.914321</td>\n",
       "    </tr>\n",
       "    <tr>\n",
       "      <th>2021-01-02</th>\n",
       "      <td>775.296622</td>\n",
       "    </tr>\n",
       "    <tr>\n",
       "      <th>2021-01-03</th>\n",
       "      <td>990.365325</td>\n",
       "    </tr>\n",
       "    <tr>\n",
       "      <th>2021-01-04</th>\n",
       "      <td>1030.318449</td>\n",
       "    </tr>\n",
       "    <tr>\n",
       "      <th>2021-01-05</th>\n",
       "      <td>1101.559814</td>\n",
       "    </tr>\n",
       "    <tr>\n",
       "      <th>...</th>\n",
       "      <td>...</td>\n",
       "    </tr>\n",
       "    <tr>\n",
       "      <th>2022-12-27</th>\n",
       "      <td>1211.575582</td>\n",
       "    </tr>\n",
       "    <tr>\n",
       "      <th>2022-12-28</th>\n",
       "      <td>1188.107925</td>\n",
       "    </tr>\n",
       "    <tr>\n",
       "      <th>2022-12-29</th>\n",
       "      <td>1200.920968</td>\n",
       "    </tr>\n",
       "    <tr>\n",
       "      <th>2022-12-30</th>\n",
       "      <td>1198.583310</td>\n",
       "    </tr>\n",
       "    <tr>\n",
       "      <th>2022-12-31</th>\n",
       "      <td>1195.330879</td>\n",
       "    </tr>\n",
       "  </tbody>\n",
       "</table>\n",
       "<p>730 rows × 1 columns</p>\n",
       "</div>"
      ],
      "text/plain": [
       "            ETH / Price, USD\n",
       "Time                        \n",
       "2021-01-01        730.914321\n",
       "2021-01-02        775.296622\n",
       "2021-01-03        990.365325\n",
       "2021-01-04       1030.318449\n",
       "2021-01-05       1101.559814\n",
       "...                      ...\n",
       "2022-12-27       1211.575582\n",
       "2022-12-28       1188.107925\n",
       "2022-12-29       1200.920968\n",
       "2022-12-30       1198.583310\n",
       "2022-12-31       1195.330879\n",
       "\n",
       "[730 rows x 1 columns]"
      ]
     },
     "execution_count": 21,
     "metadata": {},
     "output_type": "execute_result"
    }
   ],
   "source": [
    "df[u * v]"
   ]
  },
  {
   "cell_type": "code",
   "execution_count": 45,
   "id": "08eee186",
   "metadata": {},
   "outputs": [],
   "source": [
    "df[u*v].to_csv('U.csv')"
   ]
  },
  {
   "cell_type": "code",
   "execution_count": 22,
   "id": "fabacf2c",
   "metadata": {},
   "outputs": [],
   "source": [
    "qw = [['2023-01-01', '2020-12-31'], ['2021-01-01', '2018-12-31'], ['2019-01-01', '2016-12-31'], ['2017-01-01', '2014-12-31'],]"
   ]
  },
  {
   "cell_type": "code",
   "execution_count": 23,
   "id": "261bfd65",
   "metadata": {},
   "outputs": [
    {
     "data": {
      "text/plain": [
       "[['2023-01-01', '2020-12-31'],\n",
       " ['2021-01-01', '2018-12-31'],\n",
       " ['2019-01-01', '2016-12-31'],\n",
       " ['2017-01-01', '2014-12-31']]"
      ]
     },
     "execution_count": 23,
     "metadata": {},
     "output_type": "execute_result"
    }
   ],
   "source": [
    "qw"
   ]
  },
  {
   "cell_type": "code",
   "execution_count": 24,
   "id": "f83094ad",
   "metadata": {},
   "outputs": [
    {
     "name": "stdout",
     "output_type": "stream",
     "text": [
      "ETH:2021:2022\n",
      "ETH:2019:2020\n",
      "ETH:2017:2018\n",
      "ETH:2015:2016\n"
     ]
    }
   ],
   "source": [
    "for q in qw:\n",
    "    u = (df.index < q[0])\n",
    "    v = (df.index > q[1])\n",
    "    l = print('ETH:' + str(int(q[1][:4]) + 1) + \":\" + str(int(q[0][:4]) - 1))\n",
    "    df[u * v].to_csv('PDataSets/'+'ETH:' + str(int(q[1][:4]) + 1) + \":\" + str(int(q[0][:4]) - 1) + '.csv')"
   ]
  },
  {
   "cell_type": "code",
   "execution_count": 68,
   "id": "7857a9ed",
   "metadata": {},
   "outputs": [],
   "source": [
    "df0 = pd.read_csv('FullDatasets/FULL_DOGE.csv', index_col=0, header = 0)"
   ]
  },
  {
   "cell_type": "code",
   "execution_count": 69,
   "id": "cbe19a7a",
   "metadata": {},
   "outputs": [
    {
     "name": "stdout",
     "output_type": "stream",
     "text": [
      "DOGE:2021:2022\n",
      "DOGE:2019:2020\n",
      "DOGE:2017:2018\n",
      "DOGE:2015:2016\n"
     ]
    }
   ],
   "source": [
    "for q in qw:\n",
    "    u = (df0.index < q[0])\n",
    "    v = (df0.index > q[1])\n",
    "    l = print('DOGE:' + str(int(q[1][:4]) + 1) + \":\" + str(int(q[0][:4]) - 1))\n",
    "    df0[u * v].to_csv('PDataSets/'+'DOGE:' + str(int(q[1][:4]) + 1) + \":\" + str(int(q[0][:4]) - 1) + '.csv')"
   ]
  },
  {
   "cell_type": "code",
   "execution_count": 3,
   "id": "4d8b55c8",
   "metadata": {},
   "outputs": [],
   "source": [
    "df0 = pd.read_csv('FullDatasets/FULL_ETH.csv', index_col = 0, header = 0)"
   ]
  },
  {
   "cell_type": "code",
   "execution_count": 2,
   "id": "a2fabf6d",
   "metadata": {},
   "outputs": [],
   "source": [
    "import pandas as pd"
   ]
  },
  {
   "cell_type": "code",
   "execution_count": 4,
   "id": "c30a50f0",
   "metadata": {},
   "outputs": [
    {
     "data": {
      "text/html": [
       "<div>\n",
       "<style scoped>\n",
       "    .dataframe tbody tr th:only-of-type {\n",
       "        vertical-align: middle;\n",
       "    }\n",
       "\n",
       "    .dataframe tbody tr th {\n",
       "        vertical-align: top;\n",
       "    }\n",
       "\n",
       "    .dataframe thead th {\n",
       "        text-align: right;\n",
       "    }\n",
       "</style>\n",
       "<table border=\"1\" class=\"dataframe\">\n",
       "  <thead>\n",
       "    <tr style=\"text-align: right;\">\n",
       "      <th></th>\n",
       "      <th>ETH / Price, USD</th>\n",
       "    </tr>\n",
       "    <tr>\n",
       "      <th>Time</th>\n",
       "      <th></th>\n",
       "    </tr>\n",
       "  </thead>\n",
       "  <tbody>\n",
       "    <tr>\n",
       "      <th>2015-08-08</th>\n",
       "      <td>1.199990</td>\n",
       "    </tr>\n",
       "    <tr>\n",
       "      <th>2015-08-09</th>\n",
       "      <td>1.199990</td>\n",
       "    </tr>\n",
       "    <tr>\n",
       "      <th>2015-08-10</th>\n",
       "      <td>1.199990</td>\n",
       "    </tr>\n",
       "    <tr>\n",
       "      <th>2015-08-11</th>\n",
       "      <td>0.990000</td>\n",
       "    </tr>\n",
       "    <tr>\n",
       "      <th>2015-08-12</th>\n",
       "      <td>1.288000</td>\n",
       "    </tr>\n",
       "    <tr>\n",
       "      <th>...</th>\n",
       "      <td>...</td>\n",
       "    </tr>\n",
       "    <tr>\n",
       "      <th>2023-04-21</th>\n",
       "      <td>1849.590967</td>\n",
       "    </tr>\n",
       "    <tr>\n",
       "      <th>2023-04-22</th>\n",
       "      <td>1875.556418</td>\n",
       "    </tr>\n",
       "    <tr>\n",
       "      <th>2023-04-23</th>\n",
       "      <td>1862.817309</td>\n",
       "    </tr>\n",
       "    <tr>\n",
       "      <th>2023-04-24</th>\n",
       "      <td>1842.867721</td>\n",
       "    </tr>\n",
       "    <tr>\n",
       "      <th>2023-04-25</th>\n",
       "      <td>1868.055646</td>\n",
       "    </tr>\n",
       "  </tbody>\n",
       "</table>\n",
       "<p>2818 rows × 1 columns</p>\n",
       "</div>"
      ],
      "text/plain": [
       "            ETH / Price, USD\n",
       "Time                        \n",
       "2015-08-08          1.199990\n",
       "2015-08-09          1.199990\n",
       "2015-08-10          1.199990\n",
       "2015-08-11          0.990000\n",
       "2015-08-12          1.288000\n",
       "...                      ...\n",
       "2023-04-21       1849.590967\n",
       "2023-04-22       1875.556418\n",
       "2023-04-23       1862.817309\n",
       "2023-04-24       1842.867721\n",
       "2023-04-25       1868.055646\n",
       "\n",
       "[2818 rows x 1 columns]"
      ]
     },
     "execution_count": 4,
     "metadata": {},
     "output_type": "execute_result"
    }
   ],
   "source": [
    "df0"
   ]
  },
  {
   "cell_type": "code",
   "execution_count": 9,
   "id": "600249df",
   "metadata": {},
   "outputs": [],
   "source": [
    "df1 = df0[(df0.index >= '2017-06-18') * (df0.index <= '2019-08-07')]"
   ]
  },
  {
   "cell_type": "code",
   "execution_count": 10,
   "id": "01f26c4f",
   "metadata": {},
   "outputs": [
    {
     "data": {
      "text/html": [
       "<div>\n",
       "<style scoped>\n",
       "    .dataframe tbody tr th:only-of-type {\n",
       "        vertical-align: middle;\n",
       "    }\n",
       "\n",
       "    .dataframe tbody tr th {\n",
       "        vertical-align: top;\n",
       "    }\n",
       "\n",
       "    .dataframe thead th {\n",
       "        text-align: right;\n",
       "    }\n",
       "</style>\n",
       "<table border=\"1\" class=\"dataframe\">\n",
       "  <thead>\n",
       "    <tr style=\"text-align: right;\">\n",
       "      <th></th>\n",
       "      <th>ETH / Price, USD</th>\n",
       "    </tr>\n",
       "    <tr>\n",
       "      <th>Time</th>\n",
       "      <th></th>\n",
       "    </tr>\n",
       "  </thead>\n",
       "  <tbody>\n",
       "    <tr>\n",
       "      <th>2017-06-18</th>\n",
       "      <td>350.534463</td>\n",
       "    </tr>\n",
       "    <tr>\n",
       "      <th>2017-06-19</th>\n",
       "      <td>357.681362</td>\n",
       "    </tr>\n",
       "    <tr>\n",
       "      <th>2017-06-20</th>\n",
       "      <td>349.288914</td>\n",
       "    </tr>\n",
       "    <tr>\n",
       "      <th>2017-06-21</th>\n",
       "      <td>320.277859</td>\n",
       "    </tr>\n",
       "    <tr>\n",
       "      <th>2017-06-22</th>\n",
       "      <td>320.145963</td>\n",
       "    </tr>\n",
       "    <tr>\n",
       "      <th>...</th>\n",
       "      <td>...</td>\n",
       "    </tr>\n",
       "    <tr>\n",
       "      <th>2019-08-03</th>\n",
       "      <td>221.835316</td>\n",
       "    </tr>\n",
       "    <tr>\n",
       "      <th>2019-08-04</th>\n",
       "      <td>222.788522</td>\n",
       "    </tr>\n",
       "    <tr>\n",
       "      <th>2019-08-05</th>\n",
       "      <td>232.299909</td>\n",
       "    </tr>\n",
       "    <tr>\n",
       "      <th>2019-08-06</th>\n",
       "      <td>225.729268</td>\n",
       "    </tr>\n",
       "    <tr>\n",
       "      <th>2019-08-07</th>\n",
       "      <td>226.042917</td>\n",
       "    </tr>\n",
       "  </tbody>\n",
       "</table>\n",
       "<p>781 rows × 1 columns</p>\n",
       "</div>"
      ],
      "text/plain": [
       "            ETH / Price, USD\n",
       "Time                        \n",
       "2017-06-18        350.534463\n",
       "2017-06-19        357.681362\n",
       "2017-06-20        349.288914\n",
       "2017-06-21        320.277859\n",
       "2017-06-22        320.145963\n",
       "...                      ...\n",
       "2019-08-03        221.835316\n",
       "2019-08-04        222.788522\n",
       "2019-08-05        232.299909\n",
       "2019-08-06        225.729268\n",
       "2019-08-07        226.042917\n",
       "\n",
       "[781 rows x 1 columns]"
      ]
     },
     "execution_count": 10,
     "metadata": {},
     "output_type": "execute_result"
    }
   ],
   "source": [
    "df1"
   ]
  },
  {
   "cell_type": "code",
   "execution_count": 11,
   "id": "f2079b2d",
   "metadata": {},
   "outputs": [],
   "source": [
    "df1.to_csv('Datasets/DataETH2017.csv')"
   ]
  },
  {
   "cell_type": "code",
   "execution_count": null,
   "id": "b562f15a",
   "metadata": {},
   "outputs": [],
   "source": []
  }
 ],
 "metadata": {
  "kernelspec": {
   "display_name": "Python 3 (ipykernel)",
   "language": "python",
   "name": "python3"
  },
  "language_info": {
   "codemirror_mode": {
    "name": "ipython",
    "version": 3
   },
   "file_extension": ".py",
   "mimetype": "text/x-python",
   "name": "python",
   "nbconvert_exporter": "python",
   "pygments_lexer": "ipython3",
   "version": "3.8.10"
  }
 },
 "nbformat": 4,
 "nbformat_minor": 5
}
