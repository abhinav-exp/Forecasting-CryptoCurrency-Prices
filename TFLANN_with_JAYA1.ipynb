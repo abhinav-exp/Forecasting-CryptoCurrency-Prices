{
  "nbformat": 4,
  "nbformat_minor": 0,
  "metadata": {
    "colab": {
      "provenance": [],
      "authorship_tag": "ABX9TyP0LJjPRjay95CDmaX9SqxI",
      "include_colab_link": true
    },
    "kernelspec": {
      "name": "python3",
      "display_name": "Python 3"
    },
    "language_info": {
      "name": "python"
    }
  },
  "cells": [
    {
      "cell_type": "markdown",
      "metadata": {
        "id": "view-in-github",
        "colab_type": "text"
      },
      "source": [
        "<a href=\"https://colab.research.google.com/github/abhinav-exp/Forecasting-CryptoCurrency-Prices/blob/master/TFLANN_with_JAYA1.ipynb\" target=\"_parent\"><img src=\"https://colab.research.google.com/assets/colab-badge.svg\" alt=\"Open In Colab\"/></a>"
      ]
    },
    {
      "cell_type": "code",
      "execution_count": 2,
      "metadata": {
        "id": "MJpkw8XK_eyB"
      },
      "outputs": [],
      "source": [
        "import numpy as np\n",
        "import pandas as pd\n",
        "import matplotlib.pyplot as plt"
      ]
    },
    {
      "cell_type": "code",
      "source": [
        "GitHubDataLink = 'https://raw.githubusercontent.com/abhinav-exp/Forecasting-CryptoCurrency-Prices/master/Datasets/'\n",
        "InputFileLink = GitHubDataLink + 'DataBTC2017.csv'\n",
        "data1 = pd.read_csv(InputFileLink, header=0, index_col=0)\n",
        "print(data1)"
      ],
      "metadata": {
        "colab": {
          "base_uri": "https://localhost:8080/"
        },
        "id": "uGTgzwMu_u6f",
        "outputId": "539aef24-b732-457c-b383-5c9cfa9388e5"
      },
      "execution_count": 3,
      "outputs": [
        {
          "output_type": "stream",
          "name": "stdout",
          "text": [
            "            CBBTCUSD\n",
            "DATE                \n",
            "2017-06-18   2515.25\n",
            "2017-06-19   2596.98\n",
            "2017-06-20   2725.08\n",
            "2017-06-21   2643.35\n",
            "2017-06-22   2679.99\n",
            "...              ...\n",
            "2019-08-03  10820.75\n",
            "2019-08-04  10997.82\n",
            "2019-08-05  11775.14\n",
            "2019-08-06  11440.08\n",
            "2019-08-07  12014.41\n",
            "\n",
            "[781 rows x 1 columns]\n"
          ]
        }
      ]
    },
    {
      "cell_type": "code",
      "source": [
        "data1min = data1.min()\n",
        "data1max = data1.max()\n",
        "\n",
        "normalize = lambda x: (x - data1min + 1)/(data1max - data1min + 2)\n",
        "data2 = normalize(data1)\n",
        "print(data2)"
      ],
      "metadata": {
        "colab": {
          "base_uri": "https://localhost:8080/"
        },
        "id": "6xbuQlIj_3E3",
        "outputId": "10dbce7c-a2ae-401b-92e0-9a78b5f565a4"
      },
      "execution_count": 4,
      "outputs": [
        {
          "output_type": "stream",
          "name": "stdout",
          "text": [
            "            CBBTCUSD\n",
            "DATE                \n",
            "2017-06-18  0.034073\n",
            "2017-06-19  0.038680\n",
            "2017-06-20  0.045901\n",
            "2017-06-21  0.041294\n",
            "2017-06-22  0.043360\n",
            "...              ...\n",
            "2019-08-03  0.502247\n",
            "2019-08-04  0.512228\n",
            "2019-08-05  0.556045\n",
            "2019-08-06  0.537158\n",
            "2019-08-07  0.569532\n",
            "\n",
            "[781 rows x 1 columns]\n"
          ]
        }
      ]
    },
    {
      "cell_type": "code",
      "source": [
        "def split_sequence(sequence, n_steps):\n",
        "  X= list()\n",
        "  for i in range(len(sequence) - n_steps):\n",
        "    end_ix = i + n_steps\n",
        "    seq_x= sequence.values[i:end_ix, 0]\n",
        "    X.append(seq_x) \n",
        "  return pd.DataFrame(X)\n",
        "\n",
        "data3 = split_sequence(data2, 10)\n",
        "print(data3.shape)\n",
        "print(data3)"
      ],
      "metadata": {
        "colab": {
          "base_uri": "https://localhost:8080/"
        },
        "id": "YPoW8oUUAPrg",
        "outputId": "a7bc4b51-6a15-4132-a60d-8aca9186ba84"
      },
      "execution_count": 5,
      "outputs": [
        {
          "output_type": "stream",
          "name": "stdout",
          "text": [
            "(771, 10)\n",
            "            0         1         2         3         4         5         6  \\\n",
            "0    0.034073  0.038680  0.045901  0.041294  0.043360  0.043967  0.037432   \n",
            "1    0.038680  0.045901  0.041294  0.043360  0.043967  0.037432  0.033530   \n",
            "2    0.045901  0.041294  0.043360  0.043967  0.037432  0.033530  0.028023   \n",
            "3    0.041294  0.043360  0.043967  0.037432  0.033530  0.028023  0.037484   \n",
            "4    0.043360  0.043967  0.037432  0.033530  0.028023  0.037484  0.036208   \n",
            "..        ...       ...       ...       ...       ...       ...       ...   \n",
            "766  0.441959  0.449255  0.447073  0.426045  0.430599  0.427984  0.432307   \n",
            "767  0.449255  0.447073  0.426045  0.430599  0.427984  0.432307  0.461562   \n",
            "768  0.447073  0.426045  0.430599  0.427984  0.432307  0.461562  0.479501   \n",
            "769  0.426045  0.430599  0.427984  0.432307  0.461562  0.479501  0.486030   \n",
            "770  0.430599  0.427984  0.432307  0.461562  0.479501  0.486030  0.502247   \n",
            "\n",
            "            7         8         9  \n",
            "0    0.033530  0.028023  0.037484  \n",
            "1    0.028023  0.037484  0.036208  \n",
            "2    0.037484  0.036208  0.034905  \n",
            "3    0.036208  0.034905  0.030688  \n",
            "4    0.034905  0.030688  0.028909  \n",
            "..        ...       ...       ...  \n",
            "766  0.461562  0.479501  0.486030  \n",
            "767  0.479501  0.486030  0.502247  \n",
            "768  0.486030  0.502247  0.512228  \n",
            "769  0.502247  0.512228  0.556045  \n",
            "770  0.512228  0.556045  0.537158  \n",
            "\n",
            "[771 rows x 10 columns]\n"
          ]
        }
      ]
    },
    {
      "cell_type": "code",
      "source": [
        "train_x = data3.iloc[:int(0.85*len(data2)), :9]\n",
        "train_y = data3.iloc[:int(0.85*len(data2)), 9:10]\n",
        "test_x = data3.iloc[int(0.85*len(data2)):, :9]\n",
        "test_y = data3.iloc[int(0.85*len(data2)):, 9:10]\n",
        "print(train_x.shape)\n",
        "print(train_y.shape)\n",
        "print(test_x.shape)\n",
        "print(test_y.shape)"
      ],
      "metadata": {
        "colab": {
          "base_uri": "https://localhost:8080/"
        },
        "id": "cPsGQSxEAS3t",
        "outputId": "ddef0575-264c-422b-9a8c-326c47f5d9a8"
      },
      "execution_count": 6,
      "outputs": [
        {
          "output_type": "stream",
          "name": "stdout",
          "text": [
            "(663, 9)\n",
            "(663, 1)\n",
            "(108, 9)\n",
            "(108, 1)\n"
          ]
        }
      ]
    },
    {
      "cell_type": "code",
      "source": [
        "class TFLANN():\n",
        "  def __init__(self, W):\n",
        "    self.weight_matrix = W\n",
        "  \n",
        "  def func_x(self, x):\n",
        "    const_x = np.ones((len(x), 1))\n",
        "    orginal_x = x\n",
        "    sinned_x = np.sin(np.pi*x)\n",
        "    cossed_x = np.cos(np.pi*x)\n",
        "    # print(const_x)\n",
        "    # print(x.shape)\n",
        "    # print(const_x.shape)\n",
        "    functioned_x = np.hstack((x, sinned_x, cossed_x, const_x))\n",
        "    return functioned_x\n",
        "\n",
        "  def forward_propagation(self, x):\n",
        "    funced_x = self.func_x(x)\n",
        "    return (np.tanh(np.dot(funced_x, self.weight_matrix)) + 1)/2"
      ],
      "metadata": {
        "id": "wo_fmfrcAYhD"
      },
      "execution_count": 70,
      "outputs": []
    },
    {
      "cell_type": "code",
      "source": [
        "find_mse = lambda x , y: np.mean((x - y) ** 2)\n",
        "\n",
        "class JAYATFLANN():\n",
        "  def __init__(self, p_size):\n",
        "    self.p_size = p_size\n",
        "    self.data = []\n",
        "\n",
        "    for i in range(p_size):\n",
        "      d = {}\n",
        "      d['W'] = np.random.random((9*3 + 1, 1))\n",
        "      model = TFLANN(d['W'])\n",
        "      d['mse'] = find_mse(model.forward_propagation(train_x), train_y)\n",
        "      self.data.append(d)\n",
        "\n",
        "    print(sum([v['mse'][9] for v in self.data]))\n",
        "    print([v['mse'][9] for v in self.data])\n",
        "\n",
        "    self.update_best_and_worst()\n",
        "\n",
        "  def update_best_and_worst(self):\n",
        "    self.best = 0\n",
        "    self.worst = 0\n",
        "    for i in range(self.p_size):\n",
        "      if self.data[self.best]['mse'][9] > self.data[i]['mse'][9]:\n",
        "        self.best = i\n",
        "      if self.data[self.worst]['mse'][9] < self.data[i]['mse'][9]:\n",
        "        self.worst = i\n",
        "\n",
        "  def next_gen(self):\n",
        "    for i in range(self.p_size):\n",
        "      t =  self.data[i]['W']\n",
        "      t += np.random.normal(loc = 0.75, scale = 0.15, size = (9*3 + 1, 1))* (self.data[self.best]['W'] - self.data[i]['W'])\n",
        "      t -= np.random.normal(loc = 0.75, scale = 0.15, size = (9*3 + 1, 1)) * (self.data[self.worst]['W'] - self.data[i]['W'])\n",
        "      model = TFLANN(t)\n",
        "      mse = find_mse(model.forward_propagation(train_x), train_y)\n",
        "      if mse[9] < self.data[i]['mse'][9]:\n",
        "        self.data[i] = {'W': t, 'mse':mse}\n",
        "\n",
        "    self.update_best_and_worst()\n",
        "\n",
        "  def optimise(self, gen):\n",
        "    for i in range(gen):\n",
        "      self.next_gen()\n",
        "      print(str(self.data[self.best]['mse'][9]) + \"\\t\" + str(self.data[self.worst]['mse'][9]))"
      ],
      "metadata": {
        "id": "Qw5N763xCnqB"
      },
      "execution_count": 188,
      "outputs": []
    },
    {
      "cell_type": "code",
      "source": [
        "plt.hist(np.random.normal(loc = 0.5, scale = 0.3, size = (100000)))\n",
        "plt.show()"
      ],
      "metadata": {
        "colab": {
          "base_uri": "https://localhost:8080/",
          "height": 266
        },
        "id": "BKS9Iycpitp2",
        "outputId": "9aaea448-a876-4ed7-b5b2-d4a6c147ad36"
      },
      "execution_count": 116,
      "outputs": [
        {
          "output_type": "display_data",
          "data": {
            "text/plain": [
              "<Figure size 432x288 with 1 Axes>"
            ],
            "image/png": "[encoded data removed]"
          },
          "metadata": {
            "needs_background": "light"
          }
        }
      ]
    },
    {
      "cell_type": "code",
      "source": [
        "optimiser = JAYATFLANN(50)\n",
        "optimiser.optimise(100)\n",
        "model = TFLANN(optimiser.data[optimiser.best]['W'])\n",
        "preds = model.forward_propagation(test_x)\n",
        "print(preds.shape)"
      ],
      "metadata": {
        "colab": {
          "base_uri": "https://localhost:8080/"
        },
        "id": "AjfADHz5gU2B",
        "outputId": "020968ae-36fc-4148-e9f2-e7ccb32c11f3"
      },
      "execution_count": 189,
      "outputs": [
        {
          "output_type": "stream",
          "name": "stderr",
          "text": [
            "/usr/local/lib/python3.9/dist-packages/numpy/core/fromnumeric.py:3472: FutureWarning: In a future version, DataFrame.mean(axis=None) will return a scalar mean over the entire DataFrame. To retain the old behavior, use 'frame.mean(axis=0)' or just 'frame.mean()'\n",
            "  return mean(axis=axis, dtype=dtype, out=out, **kwargs)\n"
          ]
        },
        {
          "output_type": "stream",
          "name": "stdout",
          "text": [
            "28.634701759657457\n",
            "[0.5717243047074312, 0.5726780815903261, 0.5723921478054614, 0.5726872562238462, 0.5726847495280125, 0.5726486437169208, 0.5726397244286159, 0.5723310941893868, 0.5721557055393293, 0.5726259983241521, 0.5723704993098413, 0.572654428004166, 0.5726332560037568, 0.572449241176663, 0.5726782600104836, 0.5726637715482437, 0.5724693859187006, 0.5725522426460824, 0.572654183360344, 0.5726330226308051, 0.5726653797818327, 0.5726478130513494, 0.5723888346625352, 0.5726729619997434, 0.5722177036720711, 0.5780093554992336, 0.5725817794914053, 0.5726563974339209, 0.5722645136059974, 0.5726533726767763, 0.572356065038195, 0.5725443107234401, 0.5725365605115083, 0.5733430024339895, 0.572584200175666, 0.5726875738702747, 0.5726597791801115, 0.5725328867491131, 0.5725021928449845, 0.5724020121954068, 0.5726813284654922, 0.5726878733846686, 0.5724919809278887, 0.5726837062102558, 0.572464451812021, 0.5725650848837373, 0.5738868259695341, 0.572664064736252, 0.5724184680386099, 0.5729252829688689]\n",
            "0.5717243047074312\t0.5726847495280125\n",
            "0.5698665807549316\t0.5726823159927594\n",
            "0.5684022153447432\t0.5726823159927594\n",
            "0.5371086902032346\t0.5706480239595968\n",
            "0.06640877681250631\t0.5147758835344557\n",
            "0.06489169637986925\t0.08744903237320502\n",
            "0.046738938708965956\t0.08734119294675312\n",
            "0.0304710924941128\t0.08300188770302554\n",
            "0.021194569724136973\t0.05495532298705657\n",
            "0.01845990324226745\t0.045247096231190095\n",
            "0.01845990324226745\t0.037553785525220686\n",
            "0.01689380736496971\t0.03149814063613941\n",
            "0.01689380736496971\t0.027057689671191695\n",
            "0.016511919929771354\t0.027057689671191695\n",
            "0.016511919929771354\t0.027034274341015213\n",
            "0.016343922924946318\t0.025132048759122574\n",
            "0.016307797736345542\t0.020242597051504826\n",
            "0.016174317167509916\t0.02014642485365563\n",
            "0.016174317167509916\t0.01774077174069401\n",
            "0.016174317167509916\t0.017595149693280934\n",
            "0.016174317167509916\t0.017595149693280934\n",
            "0.016174317167509916\t0.017595149693280934\n",
            "0.016174317167509916\t0.017595149693280934\n",
            "0.016174317167509916\t0.017595149693280934\n",
            "0.016174317167509916\t0.017595149693280934\n",
            "0.016174317167509916\t0.017595149693280934\n",
            "0.016174317167509916\t0.017595149693280934\n",
            "0.016174317167509916\t0.017595149693280934\n",
            "0.016174317167509916\t0.017595149693280934\n",
            "0.016174317167509916\t0.017595149693280934\n",
            "0.016174317167509916\t0.017595149693280934\n",
            "0.016174317167509916\t0.017595149693280934\n",
            "0.016174317167509916\t0.017595149693280934\n",
            "0.016174317167509916\t0.017595149693280934\n",
            "0.016174317167509916\t0.017595149693280934\n",
            "0.016174317167509916\t0.017595149693280934\n",
            "0.016174317167509916\t0.017595149693280934\n",
            "0.016174317167509916\t0.017595149693280934\n",
            "0.016174317167509916\t0.017595149693280934\n",
            "0.016174317167509916\t0.017595149693280934\n",
            "0.016174317167509916\t0.017595149693280934\n",
            "0.016174317167509916\t0.017595149693280934\n",
            "0.016174317167509916\t0.017595149693280934\n",
            "0.016174317167509916\t0.017595149693280934\n",
            "0.016174317167509916\t0.017595149693280934\n",
            "0.016174317167509916\t0.017595149693280934\n",
            "0.016174317167509916\t0.017595149693280934\n",
            "0.016174317167509916\t0.017595149693280934\n",
            "0.016174317167509916\t0.017595149693280934\n",
            "0.016174317167509916\t0.017595149693280934\n",
            "0.016174317167509916\t0.017595149693280934\n",
            "0.016174317167509916\t0.017595149693280934\n",
            "0.016174317167509916\t0.017595149693280934\n",
            "0.016174317167509916\t0.017595149693280934\n",
            "0.016174317167509916\t0.017595149693280934\n",
            "0.016174317167509916\t0.017595149693280934\n",
            "0.016174317167509916\t0.017595149693280934\n",
            "0.016174317167509916\t0.017595149693280934\n",
            "0.016174317167509916\t0.017595149693280934\n",
            "0.016174317167509916\t0.017595149693280934\n",
            "0.016174317167509916\t0.017595149693280934\n",
            "0.016174317167509916\t0.017595149693280934\n",
            "0.016174317167509916\t0.017595149693280934\n",
            "0.016174317167509916\t0.017595149693280934\n",
            "0.016174317167509916\t0.017595149693280934\n",
            "0.016174317167509916\t0.017595149693280934\n",
            "0.016174317167509916\t0.017595149693280934\n",
            "0.016174317167509916\t0.017595149693280934\n",
            "0.016174317167509916\t0.017595149693280934\n",
            "0.016174317167509916\t0.017595149693280934\n",
            "0.016174317167509916\t0.017595149693280934\n",
            "0.016174317167509916\t0.017595149693280934\n",
            "0.016174317167509916\t0.017595149693280934\n",
            "0.016174317167509916\t0.017595149693280934\n",
            "0.016174317167509916\t0.017595149693280934\n",
            "0.016174317167509916\t0.017595149693280934\n",
            "0.016174317167509916\t0.017595149693280934\n",
            "0.016174317167509916\t0.017595149693280934\n",
            "0.016174317167509916\t0.017595149693280934\n",
            "0.016174317167509916\t0.017595149693280934\n",
            "0.016174317167509916\t0.017595149693280934\n",
            "0.016174317167509916\t0.017595149693280934\n",
            "0.016174317167509916\t0.017595149693280934\n",
            "0.016174317167509916\t0.017595149693280934\n",
            "0.016174317167509916\t0.017595149693280934\n",
            "0.016174317167509916\t0.017595149693280934\n",
            "0.016174317167509916\t0.017595149693280934\n",
            "0.016174317167509916\t0.017595149693280934\n",
            "0.016174317167509916\t0.017595149693280934\n",
            "0.016174317167509916\t0.017595149693280934\n",
            "0.016174317167509916\t0.017595149693280934\n",
            "0.016174317167509916\t0.017595149693280934\n",
            "0.016174317167509916\t0.017595149693280934\n",
            "0.016174317167509916\t0.017595149693280934\n",
            "0.016174317167509916\t0.017595149693280934\n",
            "0.016174317167509916\t0.017595149693280934\n",
            "0.016174317167509916\t0.017595149693280934\n",
            "0.016174317167509916\t0.017595149693280934\n",
            "0.016174317167509916\t0.017595149693280934\n",
            "0.016174317167509916\t0.017595149693280934\n",
            "(108, 1)\n"
          ]
        }
      ]
    },
    {
      "cell_type": "code",
      "source": [
        "preds[:, 0]"
      ],
      "metadata": {
        "colab": {
          "base_uri": "https://localhost:8080/"
        },
        "id": "964etOrYg7di",
        "outputId": "a707c2f9-70b9-4d45-cd30-b1d30d394454"
      },
      "execution_count": 190,
      "outputs": [
        {
          "output_type": "execute_result",
          "data": {
            "text/plain": [
              "array([0.10640565, 0.11772308, 0.10875565, 0.11300682, 0.11570855,\n",
              "       0.10770258, 0.10024788, 0.10920195, 0.11829756, 0.12373813,\n",
              "       0.12534169, 0.14606837, 0.13088761, 0.12171954, 0.12259236,\n",
              "       0.11722143, 0.10184383, 0.09495334, 0.10602954, 0.11211881,\n",
              "       0.11894316, 0.14102101, 0.15677596, 0.12130109, 0.14353333,\n",
              "       0.10184006, 0.13070733, 0.06584692, 0.08369312, 0.11972402,\n",
              "       0.23545172, 0.25489196, 0.21736529, 0.14024992, 0.18824715,\n",
              "       0.17376671, 0.23504041, 0.2873126 , 0.24271163, 0.19887259,\n",
              "       0.14748332, 0.16262803, 0.22704143, 0.26228483, 0.30721626,\n",
              "       0.18519872, 0.1836524 , 0.20136745, 0.2802038 , 0.30452388,\n",
              "       0.2448528 , 0.20653426, 0.19984832, 0.1911595 , 0.23338373,\n",
              "       0.20734773, 0.27140803, 0.23036126, 0.23982215, 0.24017442,\n",
              "       0.21557628, 0.26236845, 0.31618797, 0.48246433, 0.5304486 ,\n",
              "       0.51039846, 0.51491878, 0.65596368, 0.80886058, 0.64244896,\n",
              "       0.79315494, 0.69231143, 0.74411595, 0.80753235, 0.7487482 ,\n",
              "       0.93825627, 0.85241855, 0.70157357, 0.62235817, 0.79357211,\n",
              "       0.92849001, 0.89256438, 0.80479015, 0.68298739, 0.78251746,\n",
              "       0.82917534, 0.79873857, 0.76580518, 0.52646356, 0.77528317,\n",
              "       0.78304687, 0.75196115, 0.71643507, 0.46333619, 0.42301178,\n",
              "       0.4140548 , 0.48581807, 0.59710512, 0.6008908 , 0.50062609,\n",
              "       0.4496867 , 0.43339877, 0.49791998, 0.55801347, 0.56555361,\n",
              "       0.54425942, 0.51834391, 0.56047474])"
            ]
          },
          "metadata": {},
          "execution_count": 190
        }
      ]
    },
    {
      "cell_type": "code",
      "source": [
        "plt.figure(figsize=(30, 6))\n",
        "plt.plot(test_y.reset_index()[9])\n",
        "plt.plot(preds)\n",
        "plt.show()"
      ],
      "metadata": {
        "colab": {
          "base_uri": "https://localhost:8080/",
          "height": 374
        },
        "id": "4E62p9vtn827",
        "outputId": "224d2945-663d-4eb9-9087-9595a4e20f95"
      },
      "execution_count": 191,
      "outputs": [
        {
          "output_type": "display_data",
          "data": {
            "text/plain": [
              "<Figure size 2160x432 with 1 Axes>"
            ],
            "image/png": "[encoded data removed]"
          },
          "metadata": {
            "needs_background": "light"
          }
        }
      ]
    },
    {
      "cell_type": "code",
      "source": [],
      "metadata": {
        "id": "Vd6YIzAqoAz1"
      },
      "execution_count": null,
      "outputs": []
    }
  ]
}